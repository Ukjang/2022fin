{
 "cells": [
  {
   "cell_type": "code",
   "execution_count": 13,
   "metadata": {},
   "outputs": [],
   "source": [
    "import random\n",
    "import pandas as pd \n",
    "from matplotlib import pyplot as plt\n",
    "import numpy as np"
   ]
  },
  {
   "cell_type": "code",
   "execution_count": 18,
   "metadata": {},
   "outputs": [
    {
     "name": "stdout",
     "output_type": "stream",
     "text": [
      "가위 바위 보 게임을 시작합니다가위\n",
      "Player:  가위 , Computer:  가위 무승부 \n",
      "\n",
      "가위 바위 보 게임을 시작합니다바위\n",
      "Player:  바위 , Computer:  가위 , 플레이어 승리 \n",
      "\n",
      "가위 바위 보 게임을 시작합니다보\n",
      "Player:  보 , Computer:  바위 , 플레이어 승리 \n",
      "\n",
      "가위 바위 보 게임을 시작합니다가위바우\n",
      "가위 바위 보 중에 하나를 입력하시오 \n",
      "\n",
      "가위 바위 보 게임을 시작합니다그래프\n"
     ]
    },
    {
     "data": {
      "image/png": "[encoded data removed]",
      "text/plain": [
       "<Figure size 864x576 with 1 Axes>"
      ]
     },
     "metadata": {
      "needs_background": "light"
     },
     "output_type": "display_data"
    },
    {
     "name": "stdout",
     "output_type": "stream",
     "text": [
      "가위 바위 보 게임을 시작합니다가위\n",
      "Player:  가위 , Computer:  바위 , 컴퓨터 승리 \n",
      "\n",
      "가위 바위 보 게임을 시작합니다바위\n",
      "Player:  바위 , Computer:  가위 , 플레이어 승리 \n",
      "\n",
      "가위 바위 보 게임을 시작합니다봐\n",
      "가위 바위 보 중에 하나를 입력하시오 \n",
      "\n",
      "가위 바위 보 게임을 시작합니다가우\n",
      "가위 바위 보 중에 하나를 입력하시오 \n",
      "\n",
      "가위 바위 보 게임을 시작합니다바위\n",
      "Player:  바위 , Computer:  가위 , 플레이어 승리 \n",
      "\n",
      "가위 바위 보 게임을 시작합니다보\n",
      "Player:  보 , Computer:  보 무승부 \n",
      "\n",
      "가위 바위 보 게임을 시작합니다그래프\n"
     ]
    },
    {
     "data": {
      "image/png": "[encoded data removed]",
      "text/plain": [
       "<Figure size 864x576 with 1 Axes>"
      ]
     },
     "metadata": {
      "needs_background": "light"
     },
     "output_type": "display_data"
    },
    {
     "name": "stdout",
     "output_type": "stream",
     "text": [
      "가위 바위 보 게임을 시작합니다종료\n",
      "승률 : 57.1%\n"
     ]
    }
   ],
   "source": [
    "rsp = ['가위', '바위', '보']\n",
    "result = ['win', 'lose', 'draw']\n",
    "draw = 0\n",
    "win = 0\n",
    "lose = 0\n",
    "n_game = 0\n",
    "game = True\n",
    "while game :\n",
    "  pl_input = str(input('가위 바위 보 게임을 시작합니다: '))\n",
    "  cm_rsp = random.choice(rsp)\n",
    "  \n",
    "  if pl_input == '그래프' :\n",
    "    y = [win, lose, draw]\n",
    "    x = np.arange(len(y))\n",
    "    plt.figure(figsize=(12,8))\n",
    "    plt.bar(x,y)\n",
    "    plt.xticks(x, result)\n",
    "    plt.yticks(sorted(y))\n",
    "    plt.xlabel('rock scissor paper')\n",
    "    plt.ylabel('result')\n",
    "    plt.show()\n",
    "    continue\n",
    "  elif pl_input == '종료' :\n",
    "    try :\n",
    "        win_rate = round((win*100 / n_game), 1)\n",
    "        print(f'승률 : {win_rate}%')\n",
    "    except :\n",
    "        print('게임 전적이 없습니다')\n",
    "    game = False\n",
    "    break\n",
    "  elif pl_input not in rsp:\n",
    "    print('가위 바위 보 중에 하나를 입력하시오', '\\n')\n",
    "    continue\n",
    "\n",
    "  if pl_input == cm_rsp :\n",
    "    print('Player: ', pl_input, ', Computer: ', cm_rsp, '무승부', '\\n')\n",
    "    draw += 1\n",
    "  elif rsp.index(pl_input) == 0 and rsp.index(cm_rsp) == 1:\n",
    "    print('Player: ', pl_input, ', Computer: ', cm_rsp, ', 컴퓨터 승리', '\\n')\n",
    "    lose += 1  \n",
    "  elif rsp.index(pl_input) == 0 and rsp.index(cm_rsp) == 2:\n",
    "    print('Player: ', pl_input, ', Computer: ', cm_rsp, ', 플레이어 승리', '\\n')\n",
    "    win += 1\n",
    "  elif rsp.index(pl_input) == 1 and rsp.index(cm_rsp) == 0:\n",
    "    print('Player: ', pl_input, ', Computer: ', cm_rsp, ', 플레이어 승리', '\\n')\n",
    "    win += 1  \n",
    "  elif rsp.index(pl_input) == 1 and rsp.index(cm_rsp) == 2:\n",
    "    print('Player: ', pl_input, ', Computer: ', cm_rsp, ', 컴퓨터 승리', '\\n')\n",
    "    lose += 1  \n",
    "  elif rsp.index(pl_input) == 2 and rsp.index(cm_rsp) == 0:\n",
    "    print('Player: ', pl_input, ', Computer: ', cm_rsp, ', 컴퓨터 승리', '\\n')\n",
    "    lose += 1  \n",
    "  elif rsp.index(pl_input) == 2 and rsp.index(cm_rsp) == 1:\n",
    "    print('Player: ', pl_input, ', Computer: ', cm_rsp, ', 플레이어 승리', '\\n')\n",
    "    win += 1  \n",
    "  \n",
    "  n_game += 1\n",
    "\n",
    "  continue\n"
   ]
  },
  {
   "cell_type": "code",
   "execution_count": null,
   "metadata": {},
   "outputs": [],
   "source": []
  }
 ],
 "metadata": {
  "kernelspec": {
   "display_name": "Python 3 (ipykernel)",
   "language": "python",
   "name": "python3"
  },
  "language_info": {
   "codemirror_mode": {
    "name": "ipython",
    "version": 3
   },
   "file_extension": ".py",
   "mimetype": "text/x-python",
   "name": "python",
   "nbconvert_exporter": "python",
   "pygments_lexer": "ipython3",
   "version": "3.9.12"
  },
  "vscode": {
   "interpreter": {
    "hash": "6d7c837e3a6627a06b6eea1ed84d18854bc3b69e833c1f76e7d35759cb0da33c"
   }
  }
 },
 "nbformat": 4,
 "nbformat_minor": 2
}
