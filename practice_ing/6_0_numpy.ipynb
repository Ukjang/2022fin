{
 "cells": [
  {
   "cell_type": "markdown",
   "metadata": {},
   "source": [
    "## 넘파이?\n",
    "\n",
    "Numerical Python - 행열 연산이나 다차원 배열을 편리하게 처리  \n",
    "배열(array) 단위로 백터, 행열 연상등을 파이썬의 기본 리스트에 비해 빠르고 적은양의 메모리로 연산  \n",
    "브로드캐스트 지원 - 형태(차원)가 다른 행렬끼리의 계산\n",
    "\n",
    "https://numpy.org/"
   ]
  },
  {
   "cell_type": "code",
   "execution_count": 1,
   "metadata": {},
   "outputs": [],
   "source": [
    "import numpy as np"
   ]
  },
  {
   "cell_type": "markdown",
   "metadata": {},
   "source": [
    "## 사용하는 이유?"
   ]
  },
  {
   "cell_type": "code",
   "execution_count": 2,
   "metadata": {},
   "outputs": [
    {
     "name": "stdout",
     "output_type": "stream",
     "text": [
      "[[6, 8], [10, 12]]\n",
      "[[ 6  8]\n",
      " [10 12]]\n"
     ]
    }
   ],
   "source": [
    "matrix_1 = [[1, 2],[3, 4]]\n",
    "matrix_2 = [[5, 6],[7, 8]]\n",
    "matrix_result = []\n",
    "\n",
    "#행렬합 (파이썬 리스트사용)\n",
    "for i in range(len(matrix_1)):\n",
    "    tmp = []\n",
    "    for j in range(len(matrix_2)):\n",
    "        tmp.append(matrix_1[i][j]+matrix_2[i][j])\n",
    "    matrix_result.append(tmp)\n",
    "    \n",
    "print(matrix_result)\n",
    "\n",
    "\n",
    "#행렬합 (넘파이)\n",
    "matrix_result = np.array(matrix_1) + np.array(matrix_2)\n",
    "print(matrix_result)"
   ]
  },
  {
   "cell_type": "code",
   "execution_count": 3,
   "metadata": {},
   "outputs": [
    {
     "name": "stdout",
     "output_type": "stream",
     "text": [
      "[[2, 3], [4, 5]]\n"
     ]
    }
   ],
   "source": [
    "#숫자와의 연산 (파이썬 리스트사용)\n",
    "\n",
    "matrix_1 = [[1, 2],[3, 4]]\n",
    "\n",
    "for i in range(len(matrix_1)):\n",
    "    for j in range(len(matrix_2)):\n",
    "        matrix_1[i][j] = matrix_1[i][j] + 1\n",
    "        \n",
    "print(matrix_1)"
   ]
  },
  {
   "cell_type": "code",
   "execution_count": 4,
   "metadata": {},
   "outputs": [
    {
     "data": {
      "text/plain": [
       "array([[2, 3],\n",
       "       [4, 5]])"
      ]
     },
     "execution_count": 4,
     "metadata": {},
     "output_type": "execute_result"
    }
   ],
   "source": [
    "#숫자와의 연산 (넘파이)\n",
    "\n",
    "matrix_1 = [[1, 2],[3, 4]]\n",
    "\n",
    "np.array(matrix_1) + 1"
   ]
  },
  {
   "cell_type": "code",
   "execution_count": 5,
   "metadata": {},
   "outputs": [
    {
     "data": {
      "text/plain": [
       "array([['aa', 'bb'],\n",
       "       ['3.4', '1']], dtype='<U32')"
      ]
     },
     "execution_count": 5,
     "metadata": {},
     "output_type": "execute_result"
    }
   ],
   "source": [
    "matrix_1 = [['aa', 'bb'],[3.4, 1]]\n",
    "\n",
    "np.array(matrix_1)"
   ]
  },
  {
   "cell_type": "markdown",
   "metadata": {},
   "source": [
    "## 속도비교"
   ]
  },
  {
   "cell_type": "code",
   "execution_count": 6,
   "metadata": {},
   "outputs": [
    {
     "name": "stdout",
     "output_type": "stream",
     "text": [
      "리스트 걸린시간 1.7261569499969482\n",
      "넘파이 걸린시간 0.13909697532653809\n"
     ]
    }
   ],
   "source": [
    "import time\n",
    "\n",
    "size = 10000000\n",
    "\n",
    "#list\n",
    "x = list(range(size))\n",
    "y = list(range(size))\n",
    "\n",
    "start_time = time.time()\n",
    "z = [x[i]+x[i] for i in range(size)]\n",
    "print(\"리스트 걸린시간\", time.time()-start_time)\n",
    "\n",
    "#adlist (넘파이)\n",
    "x = np.arange(size)\n",
    "y = np.arange(size)\n",
    "start_time = time.time()\n",
    "z = x + y\n",
    "print(\"넘파이 걸린시간\", time.time()-start_time)"
   ]
  },
  {
   "cell_type": "markdown",
   "metadata": {},
   "source": [
    "## ndarray"
   ]
  },
  {
   "cell_type": "code",
   "execution_count": 7,
   "metadata": {},
   "outputs": [
    {
     "name": "stdout",
     "output_type": "stream",
     "text": [
      "32\n",
      "uint32\n"
     ]
    }
   ],
   "source": [
    "x = np.uint(32)\n",
    "print(x)\n",
    "print(x.dtype)"
   ]
  },
  {
   "cell_type": "code",
   "execution_count": 8,
   "metadata": {},
   "outputs": [
    {
     "name": "stdout",
     "output_type": "stream",
     "text": [
      "[1 2 3 4]\n",
      "int32\n"
     ]
    }
   ],
   "source": [
    "x = np.array([1, 2, 3, 4])\n",
    "print(x)\n",
    "print(x.dtype)"
   ]
  },
  {
   "cell_type": "code",
   "execution_count": 9,
   "metadata": {},
   "outputs": [
    {
     "name": "stdout",
     "output_type": "stream",
     "text": [
      "[1. 2. 3. 4.]\n",
      "float32\n"
     ]
    }
   ],
   "source": [
    "x = np.float32([1, 2, 3, 4])\n",
    "print(x)\n",
    "print(x.dtype)"
   ]
  },
  {
   "cell_type": "code",
   "execution_count": 10,
   "metadata": {},
   "outputs": [
    {
     "name": "stdout",
     "output_type": "stream",
     "text": [
      "[1. 2. 3. 4.]\n",
      "float32\n",
      "[1 2 3 4]\n",
      "int32\n"
     ]
    },
    {
     "data": {
      "text/plain": [
       "True"
      ]
     },
     "execution_count": 10,
     "metadata": {},
     "output_type": "execute_result"
    }
   ],
   "source": [
    "x = np.array([1, 2, 3, 4], dtype=np.float32)\n",
    "print(x)\n",
    "print(x.dtype)\n",
    "\n",
    "x = np.int32(x)\n",
    "print(x)\n",
    "print(x.dtype)\n",
    "np.issubdtype(x.dtype, np.int32)"
   ]
  },
  {
   "cell_type": "markdown",
   "metadata": {},
   "source": [
    "## 다차원 ndarray"
   ]
  },
  {
   "cell_type": "code",
   "execution_count": 11,
   "metadata": {},
   "outputs": [
    {
     "name": "stdout",
     "output_type": "stream",
     "text": [
      "()\n",
      "0\n",
      "1\n"
     ]
    }
   ],
   "source": [
    "x = np.array(1)\n",
    "print(x.shape)\n",
    "print(x.ndim)\n",
    "print(x.size)"
   ]
  },
  {
   "cell_type": "code",
   "execution_count": 12,
   "metadata": {},
   "outputs": [
    {
     "name": "stdout",
     "output_type": "stream",
     "text": [
      "(2,)\n",
      "1\n",
      "2\n"
     ]
    }
   ],
   "source": [
    "x = np.array([1, 2])\n",
    "print(x.shape)\n",
    "print(x.ndim)\n",
    "print(x.size)"
   ]
  },
  {
   "cell_type": "code",
   "execution_count": 13,
   "metadata": {},
   "outputs": [
    {
     "name": "stdout",
     "output_type": "stream",
     "text": [
      "(2, 3)\n",
      "2\n",
      "2\n"
     ]
    }
   ],
   "source": [
    "x = np.array([[1, 2, 3],[4, 5, 6]])\n",
    "print(x.shape)\n",
    "print(x.ndim)\n",
    "print(x.ndim)"
   ]
  },
  {
   "cell_type": "markdown",
   "metadata": {},
   "source": [
    "## arange"
   ]
  },
  {
   "cell_type": "code",
   "execution_count": 14,
   "metadata": {},
   "outputs": [
    {
     "name": "stdout",
     "output_type": "stream",
     "text": [
      "[0 1 2 3 4 5 6 7 8 9]\n",
      "[0. 1. 2. 3. 4. 5. 6. 7. 8. 9.]\n",
      "[1 3 5 7 9]\n",
      "[1.  1.5 2.  2.5 3.  3.5 4.  4.5 5.  5.5 6.  6.5 7.  7.5 8.  8.5 9.  9.5]\n",
      "[10.   9.5  9.   8.5  8.   7.5  7.   6.5  6.   5.5  5.   4.5  4.   3.5\n",
      "  3.   2.5  2.   1.5]\n"
     ]
    }
   ],
   "source": [
    "x = np.arange(10)\n",
    "print(x)\n",
    "x = np.arange(10.0)\n",
    "print(x)\n",
    "x = np.arange(1, 10, 2)\n",
    "print(x)\n",
    "x = np.arange(1, 10, 0.5)\n",
    "print(x)\n",
    "x = np.arange(10, 1, -0.5)\n",
    "print(x)"
   ]
  },
  {
   "cell_type": "markdown",
   "metadata": {},
   "source": [
    "## linspace"
   ]
  },
  {
   "cell_type": "code",
   "execution_count": 15,
   "metadata": {},
   "outputs": [
    {
     "name": "stdout",
     "output_type": "stream",
     "text": [
      "[ 1.    5.75 10.5  15.25 20.  ]\n"
     ]
    }
   ],
   "source": [
    "x = np.linspace(1, 20, 5)\n",
    "print(x)"
   ]
  },
  {
   "cell_type": "code",
   "execution_count": 16,
   "metadata": {},
   "outputs": [
    {
     "name": "stdout",
     "output_type": "stream",
     "text": [
      "[ 1.   2.9  4.8  6.7  8.6 10.5 12.4 14.3 16.2 18.1]\n"
     ]
    }
   ],
   "source": [
    "x = np.linspace(1, 20, 10, endpoint=False)\n",
    "print(x)"
   ]
  },
  {
   "cell_type": "markdown",
   "metadata": {},
   "source": [
    "## reshape"
   ]
  },
  {
   "cell_type": "code",
   "execution_count": 17,
   "metadata": {},
   "outputs": [
    {
     "name": "stdout",
     "output_type": "stream",
     "text": [
      "[[0 1 2]\n",
      " [3 4 5]\n",
      " [6 7 8]]\n"
     ]
    }
   ],
   "source": [
    "x = np.arange(9).reshape(3, 3)\n",
    "print(x)"
   ]
  },
  {
   "cell_type": "code",
   "execution_count": 18,
   "metadata": {},
   "outputs": [
    {
     "name": "stdout",
     "output_type": "stream",
     "text": [
      "[[[ 0  1  2  3]\n",
      "  [ 4  5  6  7]\n",
      "  [ 8  9 10 11]]\n",
      "\n",
      " [[12 13 14 15]\n",
      "  [16 17 18 19]\n",
      "  [20 21 22 23]]]\n"
     ]
    }
   ],
   "source": [
    "x = np.arange(24).reshape(2, 3, 4)\n",
    "print(x)"
   ]
  },
  {
   "cell_type": "code",
   "execution_count": 19,
   "metadata": {},
   "outputs": [
    {
     "name": "stdout",
     "output_type": "stream",
     "text": [
      "[[[[ 0  1]\n",
      "   [ 2  3]]\n",
      "\n",
      "  [[ 4  5]\n",
      "   [ 6  7]]]\n",
      "\n",
      "\n",
      " [[[ 8  9]\n",
      "   [10 11]]\n",
      "\n",
      "  [[12 13]\n",
      "   [14 15]]]]\n"
     ]
    }
   ],
   "source": [
    "x = np.arange(16).reshape(2, 2, 2, 2)\n",
    "print(x)"
   ]
  },
  {
   "cell_type": "code",
   "execution_count": 20,
   "metadata": {},
   "outputs": [
    {
     "name": "stdout",
     "output_type": "stream",
     "text": [
      "[[1 2]\n",
      " [3 4]\n",
      " [5 6]]\n",
      "[[1 2 3]\n",
      " [4 5 6]]\n"
     ]
    }
   ],
   "source": [
    "x = np.array([[1,2],[3,4],[5,6]])\n",
    "print(x)\n",
    "print(x.reshape(2,3))"
   ]
  },
  {
   "cell_type": "code",
   "execution_count": 21,
   "metadata": {},
   "outputs": [
    {
     "name": "stdout",
     "output_type": "stream",
     "text": [
      "[[0 1 2]\n",
      " [3 4 5]\n",
      " [6 7 8]]\n"
     ]
    }
   ],
   "source": [
    "x = np.arange(9).reshape(3, -1)\n",
    "print(x)"
   ]
  },
  {
   "cell_type": "markdown",
   "metadata": {},
   "source": [
    "## slicing"
   ]
  },
  {
   "cell_type": "code",
   "execution_count": 22,
   "metadata": {},
   "outputs": [
    {
     "name": "stdout",
     "output_type": "stream",
     "text": [
      "[1 2]\n"
     ]
    }
   ],
   "source": [
    "x = np.arange(20)\n",
    "print(x[1:3])"
   ]
  },
  {
   "cell_type": "code",
   "execution_count": 23,
   "metadata": {},
   "outputs": [
    {
     "name": "stdout",
     "output_type": "stream",
     "text": [
      "[[ 0  1  2  3  4]\n",
      " [ 5  6  7  8  9]\n",
      " [10 11 12 13 14]\n",
      " [15 16 17 18 19]]\n",
      "[[ 5  6  7  8  9]\n",
      " [10 11 12 13 14]]\n",
      "[[ 6  7]\n",
      " [11 12]]\n"
     ]
    }
   ],
   "source": [
    "x = np.arange(20).reshape(4,5)\n",
    "print(x)\n",
    "print(x[1:3])\n",
    "print(x[1:3, 1:3])"
   ]
  },
  {
   "cell_type": "code",
   "execution_count": 24,
   "metadata": {
    "scrolled": true
   },
   "outputs": [
    {
     "name": "stdout",
     "output_type": "stream",
     "text": [
      "[[[ 0  1  2]\n",
      "  [ 3  4  5]\n",
      "  [ 6  7  8]\n",
      "  [ 9 10 11]\n",
      "  [12 13 14]]\n",
      "\n",
      " [[15 16 17]\n",
      "  [18 19 20]\n",
      "  [21 22 23]\n",
      "  [24 25 26]\n",
      "  [27 28 29]]]\n",
      "[[10 13]\n",
      " [25 28]]\n"
     ]
    }
   ],
   "source": [
    "x = np.arange(30).reshape(2,5,3)\n",
    "print(x)\n",
    "print(x[:,3:5,1])"
   ]
  },
  {
   "cell_type": "markdown",
   "metadata": {},
   "source": [
    "## indexing & boolean indexing"
   ]
  },
  {
   "cell_type": "code",
   "execution_count": 25,
   "metadata": {},
   "outputs": [
    {
     "name": "stdout",
     "output_type": "stream",
     "text": [
      "[[ 0  1  2  3  4]\n",
      " [ 5  6  7  8  9]\n",
      " [10 11 12 13 14]\n",
      " [15 16 17 18 19]]\n",
      "6\n",
      "6\n",
      "[6 7]\n"
     ]
    }
   ],
   "source": [
    "a = np.arange(20).reshape(4, 5)\n",
    "print(a)\n",
    "\n",
    "print(a[1][1])\n",
    "print(a[1,1])\n",
    "print(a[[1,1],[1,2]])"
   ]
  },
  {
   "cell_type": "code",
   "execution_count": 26,
   "metadata": {},
   "outputs": [
    {
     "name": "stdout",
     "output_type": "stream",
     "text": [
      "[[ 0  1  2  3  4]\n",
      " [ 5  6  7  8  9]\n",
      " [10 11 12 13 14]\n",
      " [15 16 17 18 19]]\n",
      "[[False False False False  True]\n",
      " [ True  True  True  True  True]\n",
      " [ True  True  True  True  True]\n",
      " [ True  True  True  True  True]]\n",
      "[ 4  5  6  7  8  9 10 11 12 13 14 15 16 17 18 19]\n",
      "[1]\n",
      "[ 0  2  3  4  5  6  7  8  9 10 11 12 13 14 15 16 17 18 19]\n",
      "[4 5 6 7]\n"
     ]
    }
   ],
   "source": [
    "a = np.arange(20).reshape(4, 5)\n",
    "print(a)\n",
    "\n",
    "print(a > 3)\n",
    "print(a[a > 3])\n",
    "print(a[a == 1])\n",
    "print(a[~(a == 1)])\n",
    "print(a[(a > 3)&(a < 8)])"
   ]
  },
  {
   "cell_type": "markdown",
   "metadata": {},
   "source": [
    "## random"
   ]
  },
  {
   "cell_type": "code",
   "execution_count": 27,
   "metadata": {},
   "outputs": [
    {
     "data": {
      "text/plain": [
       "array([[0.06573065, 0.51568925, 0.84165071, 0.52539004, 0.13207606],\n",
       "       [0.26404871, 0.13980609, 0.50930458, 0.02661379, 0.60855763],\n",
       "       [0.32689261, 0.52797352, 0.77679947, 0.73032405, 0.44527838],\n",
       "       [0.83882244, 0.49658233, 0.80745575, 0.60788656, 0.98028606],\n",
       "       [0.17462269, 0.7830518 , 0.44026395, 0.57312644, 0.92786437]])"
      ]
     },
     "execution_count": 27,
     "metadata": {},
     "output_type": "execute_result"
    }
   ],
   "source": [
    "np.random.rand(5,5)"
   ]
  },
  {
   "cell_type": "code",
   "execution_count": 14,
   "metadata": {},
   "outputs": [
    {
     "data": {
      "text/plain": [
       "1"
      ]
     },
     "execution_count": 14,
     "metadata": {},
     "output_type": "execute_result"
    }
   ],
   "source": [
    "np.random.randint(1, 2)"
   ]
  },
  {
   "cell_type": "code",
   "execution_count": 29,
   "metadata": {},
   "outputs": [
    {
     "data": {
      "text/plain": [
       "array([9, 8, 7, 7, 1])"
      ]
     },
     "execution_count": 29,
     "metadata": {},
     "output_type": "execute_result"
    }
   ],
   "source": [
    "np.random.randint(1, 10, size=(5))"
   ]
  },
  {
   "cell_type": "code",
   "execution_count": 30,
   "metadata": {},
   "outputs": [
    {
     "data": {
      "text/plain": [
       "array([[8, 7, 1, 1, 7],\n",
       "       [1, 5, 8, 7, 6],\n",
       "       [6, 4, 4, 4, 9],\n",
       "       [9, 3, 2, 6, 6],\n",
       "       [5, 9, 4, 9, 5]])"
      ]
     },
     "execution_count": 30,
     "metadata": {},
     "output_type": "execute_result"
    }
   ],
   "source": [
    "np.random.randint(1, 10, size=(5, 5))"
   ]
  },
  {
   "cell_type": "markdown",
   "metadata": {},
   "source": [
    "## 특별한 형태의 배열"
   ]
  },
  {
   "cell_type": "code",
   "execution_count": 31,
   "metadata": {},
   "outputs": [
    {
     "data": {
      "text/plain": [
       "array([[1., 1., 1., 1., 1.],\n",
       "       [1., 1., 1., 1., 1.],\n",
       "       [1., 1., 1., 1., 1.],\n",
       "       [1., 1., 1., 1., 1.],\n",
       "       [1., 1., 1., 1., 1.]])"
      ]
     },
     "execution_count": 31,
     "metadata": {},
     "output_type": "execute_result"
    }
   ],
   "source": [
    "np.ones([5,5])"
   ]
  },
  {
   "cell_type": "code",
   "execution_count": 32,
   "metadata": {},
   "outputs": [
    {
     "data": {
      "text/plain": [
       "array([[0., 0., 0., 0., 0.],\n",
       "       [0., 0., 0., 0., 0.],\n",
       "       [0., 0., 0., 0., 0.],\n",
       "       [0., 0., 0., 0., 0.],\n",
       "       [0., 0., 0., 0., 0.]])"
      ]
     },
     "execution_count": 32,
     "metadata": {},
     "output_type": "execute_result"
    }
   ],
   "source": [
    "np.zeros([5,5])"
   ]
  },
  {
   "cell_type": "code",
   "execution_count": 33,
   "metadata": {},
   "outputs": [
    {
     "data": {
      "text/plain": [
       "array([[1., 0., 0., 0., 0.],\n",
       "       [0., 1., 0., 0., 0.],\n",
       "       [0., 0., 1., 0., 0.],\n",
       "       [0., 0., 0., 1., 0.],\n",
       "       [0., 0., 0., 0., 1.]])"
      ]
     },
     "execution_count": 33,
     "metadata": {},
     "output_type": "execute_result"
    }
   ],
   "source": [
    "np.eye(5)"
   ]
  },
  {
   "cell_type": "code",
   "execution_count": 34,
   "metadata": {},
   "outputs": [
    {
     "name": "stdout",
     "output_type": "stream",
     "text": [
      "[[8 6 8 2 4]\n",
      " [9 2 6 2 7]\n",
      " [6 7 8 5 3]\n",
      " [8 4 1 7 7]\n",
      " [6 6 9 7 7]]\n",
      "[[8. 6. 8. 2. 4.]\n",
      " [9. 2. 6. 2. 7.]\n",
      " [6. 7. 8. 5. 3.]\n",
      " [8. 4. 1. 7. 7.]\n",
      " [6. 6. 9. 7. 7.]]\n"
     ]
    }
   ],
   "source": [
    "x = np.random.randint(1, 10, size=(5, 5))\n",
    "y = np.eye(5)\n",
    "print(x)\n",
    "z = np.dot(x, y)\n",
    "print(z)"
   ]
  },
  {
   "cell_type": "code",
   "execution_count": 35,
   "metadata": {},
   "outputs": [
    {
     "name": "stdout",
     "output_type": "stream",
     "text": [
      "[[7 3 7 3 6]\n",
      " [7 1 9 8 3]\n",
      " [6 4 4 2 7]\n",
      " [7 4 5 9 2]\n",
      " [1 9 4 8 8]]\n",
      "[7 3 7 3 6 7 1 9 8 3 6 4 4 2 7 7 4 5 9 2 1 9 4 8 8]\n",
      "[7 7 6 7 1 3 1 4 4 9 7 9 4 5 4 3 8 2 9 8 6 3 7 2 8]\n"
     ]
    }
   ],
   "source": [
    "x = np.random.randint(1, 10, size=(5, 5))\n",
    "print(x)\n",
    "print(x.ravel())\n",
    "print(x.ravel(order='F'))"
   ]
  },
  {
   "cell_type": "markdown",
   "metadata": {},
   "source": [
    "## concatenate"
   ]
  },
  {
   "cell_type": "code",
   "execution_count": 36,
   "metadata": {},
   "outputs": [
    {
     "data": {
      "text/plain": [
       "array([1, 2, 3, 4, 5, 6])"
      ]
     },
     "execution_count": 36,
     "metadata": {},
     "output_type": "execute_result"
    }
   ],
   "source": [
    "x = np.arange(1, 4)\n",
    "y = np.arange(4, 7)\n",
    "\n",
    "np.concatenate([x, y])"
   ]
  },
  {
   "cell_type": "code",
   "execution_count": 37,
   "metadata": {},
   "outputs": [
    {
     "data": {
      "text/plain": [
       "array([[ 0,  1,  2,  3,  4],\n",
       "       [ 5,  6,  7,  8,  9],\n",
       "       [10, 11, 12, 13, 14],\n",
       "       [15, 16, 17, 18, 19]])"
      ]
     },
     "execution_count": 37,
     "metadata": {},
     "output_type": "execute_result"
    }
   ],
   "source": [
    "x = np.arange(10).reshape(2, 5)\n",
    "y = np.arange(10, 20).reshape(2, 5)\n",
    "\n",
    "np.concatenate([x, y])"
   ]
  },
  {
   "cell_type": "code",
   "execution_count": 38,
   "metadata": {},
   "outputs": [
    {
     "data": {
      "text/plain": [
       "array([[ 0,  1,  2,  3,  4, 10, 11, 12, 13, 14],\n",
       "       [ 5,  6,  7,  8,  9, 15, 16, 17, 18, 19]])"
      ]
     },
     "execution_count": 38,
     "metadata": {},
     "output_type": "execute_result"
    }
   ],
   "source": [
    "np.concatenate([x, y], axis=1)"
   ]
  },
  {
   "cell_type": "markdown",
   "metadata": {},
   "source": [
    "## split"
   ]
  },
  {
   "cell_type": "code",
   "execution_count": 39,
   "metadata": {},
   "outputs": [
    {
     "name": "stdout",
     "output_type": "stream",
     "text": [
      "[ 0  1  2  3  4  5  6  7  8  9 10 11]\n"
     ]
    },
    {
     "data": {
      "text/plain": [
       "[array([0, 1, 2]), array([3, 4, 5]), array([6, 7, 8]), array([ 9, 10, 11])]"
      ]
     },
     "execution_count": 39,
     "metadata": {},
     "output_type": "execute_result"
    }
   ],
   "source": [
    "x = np.arange(12)\n",
    "print(x)\n",
    "np.split(x, 4)"
   ]
  },
  {
   "cell_type": "code",
   "execution_count": 40,
   "metadata": {},
   "outputs": [
    {
     "name": "stdout",
     "output_type": "stream",
     "text": [
      "[[ 0  1  2  3]\n",
      " [ 4  5  6  7]\n",
      " [ 8  9 10 11]\n",
      " [12 13 14 15]]\n"
     ]
    },
    {
     "data": {
      "text/plain": [
       "[array([[0, 1, 2, 3],\n",
       "        [4, 5, 6, 7]]),\n",
       " array([[ 8,  9, 10, 11],\n",
       "        [12, 13, 14, 15]])]"
      ]
     },
     "execution_count": 40,
     "metadata": {},
     "output_type": "execute_result"
    }
   ],
   "source": [
    "x = np.arange(16).reshape(4, 4)\n",
    "print(x)\n",
    "np.split(x, 2)"
   ]
  },
  {
   "cell_type": "code",
   "execution_count": 41,
   "metadata": {},
   "outputs": [
    {
     "name": "stdout",
     "output_type": "stream",
     "text": [
      "[[ 0  1  2  3]\n",
      " [ 4  5  6  7]\n",
      " [ 8  9 10 11]\n",
      " [12 13 14 15]]\n"
     ]
    },
    {
     "data": {
      "text/plain": [
       "[array([[ 0,  1],\n",
       "        [ 4,  5],\n",
       "        [ 8,  9],\n",
       "        [12, 13]]),\n",
       " array([[ 2,  3],\n",
       "        [ 6,  7],\n",
       "        [10, 11],\n",
       "        [14, 15]])]"
      ]
     },
     "execution_count": 41,
     "metadata": {},
     "output_type": "execute_result"
    }
   ],
   "source": [
    "x = np.arange(16).reshape(4, 4)\n",
    "print(x)\n",
    "np.split(x, 2, axis=1)"
   ]
  },
  {
   "cell_type": "markdown",
   "metadata": {},
   "source": [
    "## broadcast"
   ]
  },
  {
   "cell_type": "code",
   "execution_count": 42,
   "metadata": {},
   "outputs": [
    {
     "data": {
      "text/plain": [
       "array([2, 3, 4])"
      ]
     },
     "execution_count": 42,
     "metadata": {},
     "output_type": "execute_result"
    }
   ],
   "source": [
    "x = np.array([1,2,3])\n",
    "x + 1"
   ]
  },
  {
   "cell_type": "code",
   "execution_count": 43,
   "metadata": {},
   "outputs": [
    {
     "data": {
      "text/plain": [
       "array([[ 2,  4,  6],\n",
       "       [ 5,  7,  9],\n",
       "       [ 8, 10, 12]])"
      ]
     },
     "execution_count": 43,
     "metadata": {},
     "output_type": "execute_result"
    }
   ],
   "source": [
    "x = np.arange(1, 10).reshape(3, 3)\n",
    "y = np.arange(1, 4)\n",
    "x + y"
   ]
  },
  {
   "cell_type": "code",
   "execution_count": 44,
   "metadata": {},
   "outputs": [
    {
     "data": {
      "text/plain": [
       "array([[11, 12, 13],\n",
       "       [21, 22, 23],\n",
       "       [31, 32, 33]])"
      ]
     },
     "execution_count": 44,
     "metadata": {},
     "output_type": "execute_result"
    }
   ],
   "source": [
    "x = np.array([10, 20, 30]).reshape(3, 1)\n",
    "y = np.arange(1, 4)\n",
    "x + y"
   ]
  },
  {
   "cell_type": "markdown",
   "metadata": {},
   "source": [
    "## 연산 및 집계함수"
   ]
  },
  {
   "cell_type": "code",
   "execution_count": 45,
   "metadata": {},
   "outputs": [
    {
     "data": {
      "text/plain": [
       "array([[ 8, 15],\n",
       "       [12, 23]])"
      ]
     },
     "execution_count": 45,
     "metadata": {},
     "output_type": "execute_result"
    }
   ],
   "source": [
    "x = np.arange(3, 7).reshape(2, 2)\n",
    "y = np.arange(4).reshape(2, 2)\n",
    "x.dot(y) #행렬곱"
   ]
  },
  {
   "cell_type": "code",
   "execution_count": 46,
   "metadata": {},
   "outputs": [
    {
     "data": {
      "text/plain": [
       "array([[3, 5],\n",
       "       [4, 6]])"
      ]
     },
     "execution_count": 46,
     "metadata": {},
     "output_type": "execute_result"
    }
   ],
   "source": [
    "np.transpose(x) #전치행렬"
   ]
  },
  {
   "cell_type": "code",
   "execution_count": 47,
   "metadata": {},
   "outputs": [
    {
     "data": {
      "text/plain": [
       "array([[-3. ,  2. ],\n",
       "       [ 2.5, -1.5]])"
      ]
     },
     "execution_count": 47,
     "metadata": {},
     "output_type": "execute_result"
    }
   ],
   "source": [
    "np.linalg.inv(x) #역행렬"
   ]
  },
  {
   "cell_type": "code",
   "execution_count": 48,
   "metadata": {},
   "outputs": [
    {
     "data": {
      "text/plain": [
       "-1.9999999999999971"
      ]
     },
     "execution_count": 48,
     "metadata": {},
     "output_type": "execute_result"
    }
   ],
   "source": [
    "np.linalg.det(x) #행렬식"
   ]
  },
  {
   "cell_type": "code",
   "execution_count": 49,
   "metadata": {},
   "outputs": [
    {
     "data": {
      "text/plain": [
       "4.5"
      ]
     },
     "execution_count": 49,
     "metadata": {},
     "output_type": "execute_result"
    }
   ],
   "source": [
    "np.median(x) #중간값"
   ]
  },
  {
   "cell_type": "code",
   "execution_count": 50,
   "metadata": {},
   "outputs": [
    {
     "data": {
      "text/plain": [
       "1.118033988749895"
      ]
     },
     "execution_count": 50,
     "metadata": {},
     "output_type": "execute_result"
    }
   ],
   "source": [
    "np.std(x) #표준편차"
   ]
  },
  {
   "cell_type": "code",
   "execution_count": 51,
   "metadata": {},
   "outputs": [
    {
     "data": {
      "text/plain": [
       "1.25"
      ]
     },
     "execution_count": 51,
     "metadata": {},
     "output_type": "execute_result"
    }
   ],
   "source": [
    "np.var(x) #분산"
   ]
  },
  {
   "cell_type": "code",
   "execution_count": 52,
   "metadata": {},
   "outputs": [
    {
     "data": {
      "text/plain": [
       "18"
      ]
     },
     "execution_count": 52,
     "metadata": {},
     "output_type": "execute_result"
    }
   ],
   "source": [
    "np.sum(x) #합"
   ]
  },
  {
   "cell_type": "code",
   "execution_count": 53,
   "metadata": {},
   "outputs": [
    {
     "data": {
      "text/plain": [
       "array([ 7, 11])"
      ]
     },
     "execution_count": 53,
     "metadata": {},
     "output_type": "execute_result"
    }
   ],
   "source": [
    "np.sum(x, axis=1) #합, 축변경"
   ]
  },
  {
   "cell_type": "code",
   "execution_count": 54,
   "metadata": {},
   "outputs": [
    {
     "data": {
      "text/plain": [
       "array([ 3,  7, 12, 18])"
      ]
     },
     "execution_count": 54,
     "metadata": {},
     "output_type": "execute_result"
    }
   ],
   "source": [
    "np.cumsum(x) #누적합"
   ]
  },
  {
   "cell_type": "code",
   "execution_count": 55,
   "metadata": {},
   "outputs": [
    {
     "data": {
      "text/plain": [
       "0"
      ]
     },
     "execution_count": 55,
     "metadata": {},
     "output_type": "execute_result"
    }
   ],
   "source": [
    "np.argmin(x) #최소값 위치"
   ]
  },
  {
   "cell_type": "code",
   "execution_count": 56,
   "metadata": {},
   "outputs": [
    {
     "data": {
      "text/plain": [
       "3"
      ]
     },
     "execution_count": 56,
     "metadata": {},
     "output_type": "execute_result"
    }
   ],
   "source": [
    "np.argmax(x) #최대값 위치"
   ]
  },
  {
   "cell_type": "code",
   "execution_count": 57,
   "metadata": {},
   "outputs": [
    {
     "data": {
      "text/plain": [
       "True"
      ]
     },
     "execution_count": 57,
     "metadata": {},
     "output_type": "execute_result"
    }
   ],
   "source": [
    "np.any(x) #하나라도 참이어야 참"
   ]
  },
  {
   "cell_type": "code",
   "execution_count": 58,
   "metadata": {},
   "outputs": [
    {
     "data": {
      "text/plain": [
       "True"
      ]
     },
     "execution_count": 58,
     "metadata": {},
     "output_type": "execute_result"
    }
   ],
   "source": [
    "np.all(x) #모든요소가 참이어야 참"
   ]
  },
  {
   "cell_type": "code",
   "execution_count": 59,
   "metadata": {},
   "outputs": [
    {
     "data": {
      "text/plain": [
       "False"
      ]
     },
     "execution_count": 59,
     "metadata": {},
     "output_type": "execute_result"
    }
   ],
   "source": [
    "np.all(x > 4)"
   ]
  },
  {
   "cell_type": "code",
   "execution_count": 60,
   "metadata": {},
   "outputs": [
    {
     "data": {
      "text/plain": [
       "(array([1, 1], dtype=int64), array([0, 1], dtype=int64))"
      ]
     },
     "execution_count": 60,
     "metadata": {},
     "output_type": "execute_result"
    }
   ],
   "source": [
    "np.where(x > 4)"
   ]
  },
  {
   "cell_type": "code",
   "execution_count": null,
   "metadata": {},
   "outputs": [],
   "source": [
    "np.where(x > 4, x, -100)"
   ]
  },
  {
   "cell_type": "markdown",
   "metadata": {},
   "source": [
    "## 실습1"
   ]
  },
  {
   "cell_type": "code",
   "execution_count": 2,
   "metadata": {},
   "outputs": [
    {
     "name": "stdout",
     "output_type": "stream",
     "text": [
      "[[11 22 33]\n",
      " [44 55 66]\n",
      " [77 88 99]]\n"
     ]
    },
    {
     "data": {
      "text/plain": [
       "array([[ 300,  360,  420],\n",
       "       [ 660,  810,  960],\n",
       "       [1020, 1260, 1500]])"
      ]
     },
     "execution_count": 2,
     "metadata": {},
     "output_type": "execute_result"
    }
   ],
   "source": [
    "x=[1, 2, 3, 4, 5, 6, 7, 8, 9]\n",
    "y=[10, 20, 30, 40, 50, 60, 70, 80, 90]\n",
    "x = np.array(x).reshape(3,3)\n",
    "y = np.array(y).reshape(3,3)\n",
    "print(x+y)\n",
    "result = np.dot(x,y)\n",
    "result"
   ]
  },
  {
   "cell_type": "markdown",
   "metadata": {},
   "source": [
    "## 실습2"
   ]
  },
  {
   "cell_type": "code",
   "execution_count": 66,
   "metadata": {},
   "outputs": [
    {
     "data": {
      "text/plain": [
       "array([11.        , 11.65517241, 12.31034483, 12.96551724, 13.62068966,\n",
       "       14.27586207, 14.93103448, 15.5862069 , 16.24137931, 16.89655172,\n",
       "       17.55172414, 18.20689655, 18.86206897, 19.51724138, 20.17241379,\n",
       "       20.82758621, 21.48275862, 22.13793103, 22.79310345, 23.44827586,\n",
       "       24.10344828, 24.75862069, 25.4137931 , 26.06896552, 26.72413793,\n",
       "       27.37931034, 28.03448276, 28.68965517, 29.34482759, 30.        ])"
      ]
     },
     "execution_count": 66,
     "metadata": {},
     "output_type": "execute_result"
    }
   ],
   "source": [
    "ar1 = np.linspace(1, 20, 30)\n",
    "ar1 += 10\n",
    "ar1"
   ]
  },
  {
   "cell_type": "markdown",
   "metadata": {},
   "source": [
    "## 실습3"
   ]
  },
  {
   "cell_type": "code",
   "execution_count": 80,
   "metadata": {
    "scrolled": true
   },
   "outputs": [
    {
     "name": "stdout",
     "output_type": "stream",
     "text": [
      "[[[36 55 50  6 73 20 17 67 53 92]\n",
      "  [86 74 39 10 32 79 67 73 43 28]\n",
      "  [68 88 97 92 85 41 38 20 99 99]\n",
      "  [70 93 91 94 33 78 83 76 30 53]\n",
      "  [29 26 97 84 20 69 57 37 44 60]\n",
      "  [32 64 53 93 14 75 67 94 66 41]\n",
      "  [96 28 48 52  8 72 73  7 73 44]\n",
      "  [78 20 58  4 54 73 53 45 49 13]\n",
      "  [78 45 25 80 57 77 72 42 63 42]\n",
      "  [54 67 44 69 39 74 58 14 47 84]]\n",
      "\n",
      " [[79 89 97 65  6 22 51 55 46  6]\n",
      "  [61  3  3 87 24 45 35 81 25 69]\n",
      "  [66 44 71 57 55 68 95 17 70 66]\n",
      "  [ 4 72 56 13 13 90  1 31 92  8]\n",
      "  [ 5 16  1 87 18 81 95 45 97 22]\n",
      "  [45 81 60 57  7 96 69 74 70 85]\n",
      "  [63 79 12 28 63 52 49 27 15 97]\n",
      "  [91 13 71 24 61 70 48 77 43 36]\n",
      "  [ 5 17 94 38 55 21 50 27 30 59]\n",
      "  [92 82  8 33 35 21 86 51  1 71]]]\n",
      "[[[2 1 1 2 1 2 2 1 1 1]\n",
      "  [1 1 2 2 2 1 1 1 2 2]\n",
      "  [1 1 1 1 1 2 2 2 1 1]\n",
      "  [1 1 1 1 2 1 1 1 2 1]\n",
      "  [2 2 1 1 2 1 1 2 2 1]\n",
      "  [2 1 1 1 2 1 1 1 1 2]\n",
      "  [1 2 2 1 2 1 1 2 1 2]\n",
      "  [1 2 1 2 1 1 1 2 2 2]\n",
      "  [1 2 2 1 1 1 1 2 1 2]\n",
      "  [1 1 2 1 2 1 1 2 2 1]]\n",
      "\n",
      " [[1 1 1 1 2 2 1 1 2 2]\n",
      "  [1 2 2 1 2 2 2 1 2 1]\n",
      "  [1 2 1 1 1 1 1 2 1 1]\n",
      "  [2 1 1 2 2 1 2 2 1 2]\n",
      "  [2 2 2 1 2 1 1 2 1 2]\n",
      "  [2 1 1 1 2 1 1 1 1 1]\n",
      "  [1 1 2 2 1 1 2 2 2 1]\n",
      "  [1 2 1 2 1 1 2 1 2 2]\n",
      "  [2 2 1 2 1 2 1 2 2 1]\n",
      "  [1 1 2 2 2 2 1 1 2 1]]]\n"
     ]
    },
    {
     "data": {
      "text/plain": [
       "array([[1, 1, 1, 1, 1],\n",
       "       [1, 2, 2, 2, 1],\n",
       "       [1, 2, 1, 2, 2],\n",
       "       [2, 1, 2, 2, 1],\n",
       "       [2, 1, 1, 2, 1]])"
      ]
     },
     "execution_count": 80,
     "metadata": {},
     "output_type": "execute_result"
    }
   ],
   "source": [
    "ar1 = np.random.randint(1, 101, size=(2,10,10))\n",
    "print(ar1)\n",
    "ar_result = np.where(ar1 >= 50, 1, 2)\n",
    "print(ar_result)\n",
    "ar_result[1, 5:, 5:]"
   ]
  }
 ],
 "metadata": {
  "kernelspec": {
   "display_name": "Python 3 (ipykernel)",
   "language": "python",
   "name": "python3"
  },
  "language_info": {
   "codemirror_mode": {
    "name": "ipython",
    "version": 3
   },
   "file_extension": ".py",
   "mimetype": "text/x-python",
   "name": "python",
   "nbconvert_exporter": "python",
   "pygments_lexer": "ipython3",
   "version": "3.9.12"
  },
  "vscode": {
   "interpreter": {
    "hash": "74acc8fd29d08fd23b8add57691a7aaff18961a013511531a1e8050c061d9e6d"
   }
  }
 },
 "nbformat": 4,
 "nbformat_minor": 2
}
