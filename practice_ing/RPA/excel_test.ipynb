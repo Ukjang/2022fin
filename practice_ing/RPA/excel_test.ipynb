{
 "cells": [
  {
   "cell_type": "code",
   "execution_count": 1,
   "metadata": {},
   "outputs": [],
   "source": [
    "import openpyxl"
   ]
  },
  {
   "cell_type": "code",
   "execution_count": 2,
   "metadata": {},
   "outputs": [],
   "source": [
    "new_excel = openpyxl.Workbook()"
   ]
  },
  {
   "cell_type": "code",
   "execution_count": 4,
   "metadata": {},
   "outputs": [
    {
     "data": {
      "text/plain": [
       "<openpyxl.workbook.workbook.Workbook at 0x2253e90aeb0>"
      ]
     },
     "execution_count": 4,
     "metadata": {},
     "output_type": "execute_result"
    }
   ],
   "source": [
    "new_excel"
   ]
  },
  {
   "cell_type": "code",
   "execution_count": 5,
   "metadata": {},
   "outputs": [
    {
     "data": {
      "text/plain": [
       "<Worksheet \"study_sheet\">"
      ]
     },
     "execution_count": 5,
     "metadata": {},
     "output_type": "execute_result"
    }
   ],
   "source": [
    "new_excel.create_sheet('study_sheet')"
   ]
  },
  {
   "cell_type": "code",
   "execution_count": 6,
   "metadata": {},
   "outputs": [
    {
     "data": {
      "text/plain": [
       "<Worksheet \"study_sheet\">"
      ]
     },
     "execution_count": 6,
     "metadata": {},
     "output_type": "execute_result"
    }
   ],
   "source": [
    "study_sheet = new_excel['study_sheet']\n",
    "study_sheet"
   ]
  },
  {
   "cell_type": "code",
   "execution_count": 8,
   "metadata": {},
   "outputs": [
    {
     "data": {
      "text/plain": [
       "<Cell 'study_sheet'.A1>"
      ]
     },
     "execution_count": 8,
     "metadata": {},
     "output_type": "execute_result"
    }
   ],
   "source": [
    "a1_cell = study_sheet['A1']\n",
    "a1_cell"
   ]
  },
  {
   "cell_type": "code",
   "execution_count": 11,
   "metadata": {},
   "outputs": [],
   "source": [
    "a1_cell.value = '테스트입니다'"
   ]
  },
  {
   "cell_type": "code",
   "execution_count": 13,
   "metadata": {},
   "outputs": [
    {
     "data": {
      "text/plain": [
       "'테스트입니다'"
      ]
     },
     "execution_count": 13,
     "metadata": {},
     "output_type": "execute_result"
    }
   ],
   "source": [
    "a1_cell.value"
   ]
  },
  {
   "cell_type": "code",
   "execution_count": 16,
   "metadata": {},
   "outputs": [
    {
     "data": {
      "text/plain": [
       "((<Cell 'study_sheet'.A1>,), (<Cell 'study_sheet'.A1>,))"
      ]
     },
     "execution_count": 16,
     "metadata": {},
     "output_type": "execute_result"
    }
   ],
   "source": [
    "a_columns = study_sheet['A']\n",
    "rows_1 = study_sheet['1']\n",
    "a_columns, rows_1"
   ]
  },
  {
   "cell_type": "code",
   "execution_count": 17,
   "metadata": {},
   "outputs": [
    {
     "data": {
      "text/plain": [
       "((<Cell 'study_sheet'.A1>,), (<Cell 'study_sheet'.A2>,))"
      ]
     },
     "execution_count": 17,
     "metadata": {},
     "output_type": "execute_result"
    }
   ],
   "source": [
    "rows_12 =  study_sheet['1:2']\n",
    "rows_12"
   ]
  },
  {
   "cell_type": "code",
   "execution_count": 18,
   "metadata": {},
   "outputs": [
    {
     "data": {
      "text/plain": [
       "((<Cell 'study_sheet'.A1>, <Cell 'study_sheet'.B1>),\n",
       " (<Cell 'study_sheet'.A2>, <Cell 'study_sheet'.B2>),\n",
       " (<Cell 'study_sheet'.A3>, <Cell 'study_sheet'.B3>),\n",
       " (<Cell 'study_sheet'.A4>, <Cell 'study_sheet'.B4>),\n",
       " (<Cell 'study_sheet'.A5>, <Cell 'study_sheet'.B5>),\n",
       " (<Cell 'study_sheet'.A6>, <Cell 'study_sheet'.B6>))"
      ]
     },
     "execution_count": 18,
     "metadata": {},
     "output_type": "execute_result"
    }
   ],
   "source": [
    "my_datas = study_sheet['A1:B6']\n",
    "my_datas"
   ]
  },
  {
   "cell_type": "code",
   "execution_count": 19,
   "metadata": {},
   "outputs": [],
   "source": [
    "count = 1\n",
    "for row in my_datas:\n",
    "    for cell in row:\n",
    "        cell.value = count\n",
    "        count += 1"
   ]
  },
  {
   "cell_type": "code",
   "execution_count": 22,
   "metadata": {},
   "outputs": [
    {
     "name": "stdout",
     "output_type": "stream",
     "text": [
      "<Cell 'study_sheet'.A1>\n",
      "1\n",
      "<Cell 'study_sheet'.B1>\n",
      "2\n",
      "<Cell 'study_sheet'.A2>\n",
      "3\n",
      "<Cell 'study_sheet'.B2>\n",
      "4\n",
      "<Cell 'study_sheet'.A3>\n",
      "5\n",
      "<Cell 'study_sheet'.B3>\n",
      "6\n",
      "<Cell 'study_sheet'.A4>\n",
      "7\n",
      "<Cell 'study_sheet'.B4>\n",
      "8\n",
      "<Cell 'study_sheet'.A5>\n",
      "9\n",
      "<Cell 'study_sheet'.B5>\n",
      "10\n",
      "<Cell 'study_sheet'.A6>\n",
      "11\n",
      "<Cell 'study_sheet'.B6>\n",
      "12\n"
     ]
    }
   ],
   "source": [
    "# 값이 있는 곳 까지 가져옴! row를 가져오고 셀을 가져옴\n",
    "for row in study_sheet.iter_rows():\n",
    "    for cell in row:\n",
    "        print(cell)\n",
    "        print(cell.value)"
   ]
  },
  {
   "cell_type": "code",
   "execution_count": 23,
   "metadata": {},
   "outputs": [
    {
     "data": {
      "text/plain": [
       "((<Cell 'study_sheet'.A1>, <Cell 'study_sheet'.B1>, <Cell 'study_sheet'.C1>),\n",
       " (<Cell 'study_sheet'.A2>, <Cell 'study_sheet'.B2>, <Cell 'study_sheet'.C2>),\n",
       " (<Cell 'study_sheet'.A3>, <Cell 'study_sheet'.B3>, <Cell 'study_sheet'.C3>),\n",
       " (<Cell 'study_sheet'.A4>, <Cell 'study_sheet'.B4>, <Cell 'study_sheet'.C4>),\n",
       " (<Cell 'study_sheet'.A5>, <Cell 'study_sheet'.B5>, <Cell 'study_sheet'.C5>),\n",
       " (<Cell 'study_sheet'.A6>, <Cell 'study_sheet'.B6>, <Cell 'study_sheet'.C6>),\n",
       " (<Cell 'study_sheet'.A7>, <Cell 'study_sheet'.B7>, <Cell 'study_sheet'.C7>),\n",
       " (<Cell 'study_sheet'.A8>, <Cell 'study_sheet'.B8>, <Cell 'study_sheet'.C8>),\n",
       " (<Cell 'study_sheet'.A9>, <Cell 'study_sheet'.B9>, <Cell 'study_sheet'.C9>))"
      ]
     },
     "execution_count": 23,
     "metadata": {},
     "output_type": "execute_result"
    }
   ],
   "source": [
    "my_datas = study_sheet['A1:C9']\n",
    "my_datas"
   ]
  },
  {
   "cell_type": "code",
   "execution_count": 24,
   "metadata": {},
   "outputs": [],
   "source": [
    "cnt = 1\n",
    "for data in my_datas:\n",
    "    for cell in data:\n",
    "        cell.value = cnt\n",
    "        cnt += 1"
   ]
  },
  {
   "cell_type": "code",
   "execution_count": 26,
   "metadata": {},
   "outputs": [
    {
     "name": "stdout",
     "output_type": "stream",
     "text": [
      "<Cell 'study_sheet'.A1> 1\n",
      "<Cell 'study_sheet'.B1> 2\n",
      "<Cell 'study_sheet'.C1> 3\n",
      "<Cell 'study_sheet'.A2> 4\n",
      "<Cell 'study_sheet'.B2> 5\n",
      "<Cell 'study_sheet'.C2> 6\n",
      "<Cell 'study_sheet'.A3> 7\n",
      "<Cell 'study_sheet'.B3> 8\n",
      "<Cell 'study_sheet'.C3> 9\n",
      "<Cell 'study_sheet'.A4> 10\n",
      "<Cell 'study_sheet'.B4> 11\n",
      "<Cell 'study_sheet'.C4> 12\n",
      "<Cell 'study_sheet'.A5> 13\n",
      "<Cell 'study_sheet'.B5> 14\n",
      "<Cell 'study_sheet'.C5> 15\n",
      "<Cell 'study_sheet'.A6> 16\n",
      "<Cell 'study_sheet'.B6> 17\n",
      "<Cell 'study_sheet'.C6> 18\n",
      "<Cell 'study_sheet'.A7> 19\n",
      "<Cell 'study_sheet'.B7> 20\n",
      "<Cell 'study_sheet'.C7> 21\n",
      "<Cell 'study_sheet'.A8> 22\n",
      "<Cell 'study_sheet'.B8> 23\n",
      "<Cell 'study_sheet'.C8> 24\n",
      "<Cell 'study_sheet'.A9> 25\n",
      "<Cell 'study_sheet'.B9> 26\n",
      "<Cell 'study_sheet'.C9> 27\n"
     ]
    }
   ],
   "source": [
    "for data in study_sheet.iter_rows():\n",
    "    for cell in data:\n",
    "        print(cell, cell.value)"
   ]
  },
  {
   "cell_type": "code",
   "execution_count": 25,
   "metadata": {},
   "outputs": [],
   "source": [
    "new_excel.save('./test_excel.xlsx')"
   ]
  },
  {
   "cell_type": "code",
   "execution_count": 54,
   "metadata": {},
   "outputs": [
    {
     "data": {
      "text/plain": [
       "((<Cell 'total'.A216>, <Cell 'total'.B216>, <Cell 'total'.C216>),\n",
       " (<Cell 'total'.A217>, <Cell 'total'.B217>, <Cell 'total'.C217>),\n",
       " (<Cell 'total'.A218>, <Cell 'total'.B218>, <Cell 'total'.C218>),\n",
       " (<Cell 'total'.A219>, <Cell 'total'.B219>, <Cell 'total'.C219>),\n",
       " (<Cell 'total'.A220>, <Cell 'total'.B220>, <Cell 'total'.C220>))"
      ]
     },
     "execution_count": 54,
     "metadata": {},
     "output_type": "execute_result"
    }
   ],
   "source": [
    "new_excel = openpyxl.Workbook()\n",
    "new_excel.create_sheet('total')\n",
    "total_sheet = new_excel['total']\n",
    "my_data = total_sheet['A1:c220']\n",
    "my_data[-5:]"
   ]
  },
  {
   "cell_type": "code",
   "execution_count": 55,
   "metadata": {},
   "outputs": [
    {
     "data": {
      "text/plain": [
       "648"
      ]
     },
     "execution_count": 55,
     "metadata": {},
     "output_type": "execute_result"
    }
   ],
   "source": [
    "cnt = 0\n",
    "for lst in os.listdir(r'./실습3'):\n",
    "    read_excel = openpyxl.load_workbook('./실습3/' + lst , read_only = True)\n",
    "    target_sheet = read_excel.active\n",
    "    for data in target_sheet.iter_rows() :\n",
    "        for cell in data:\n",
    "            my_data[cnt//3][cnt%3].value = cell.value\n",
    "            cnt += 1\n",
    "cnt"
   ]
  },
  {
   "cell_type": "code",
   "execution_count": 56,
   "metadata": {},
   "outputs": [
    {
     "data": {
      "text/plain": [
       "['2017.12.1.xlsx',\n",
       " '2017.12.2.xlsx',\n",
       " '2017.12.3.xlsx',\n",
       " '2017.12.4.xlsx',\n",
       " '2017.12.5.xlsx',\n",
       " '2017.12.6.xlsx',\n",
       " '2017.12.7.xlsx',\n",
       " '2017.12.8.xlsx',\n",
       " '2017.12.9.xlsx']"
      ]
     },
     "execution_count": 56,
     "metadata": {},
     "output_type": "execute_result"
    }
   ],
   "source": [
    "os.listdir(r'./실습3')"
   ]
  },
  {
   "cell_type": "code",
   "execution_count": null,
   "metadata": {},
   "outputs": [],
   "source": [
    "for i in range(0,len(temp),3):\n",
    "    nexc.append(temp[i:i+3]) \n",
    "n_excel.save('./실습.xlsx')"
   ]
  },
  {
   "cell_type": "code",
   "execution_count": 58,
   "metadata": {},
   "outputs": [],
   "source": [
    "new_excel.save('./sum_excel.xlsx')"
   ]
  }
 ],
 "metadata": {
  "kernelspec": {
   "display_name": "Python 3.8.10 64-bit (microsoft store)",
   "language": "python",
   "name": "python3"
  },
  "language_info": {
   "codemirror_mode": {
    "name": "ipython",
    "version": 3
   },
   "file_extension": ".py",
   "mimetype": "text/x-python",
   "name": "python",
   "nbconvert_exporter": "python",
   "pygments_lexer": "ipython3",
   "version": "3.8.10"
  },
  "orig_nbformat": 4,
  "vscode": {
   "interpreter": {
    "hash": "e3ada8b426290dd76767ba6368ea690ca67a7a436b12c3cf567e5cb72f89ca03"
   }
  }
 },
 "nbformat": 4,
 "nbformat_minor": 2
}
