{
 "cells": [
  {
   "cell_type": "code",
   "execution_count": 2,
   "metadata": {},
   "outputs": [],
   "source": [
    "with open('orders.csv', 'w', encoding='utf-8') as f :\n",
    "    f.write('고객명, 상품명, 수량, 금액\\n')\n",
    "    f.write('최재진,폴드4,1,800000\\n')"
   ]
  },
  {
   "cell_type": "code",
   "execution_count": 3,
   "metadata": {},
   "outputs": [],
   "source": [
    "with open('orders.csv', 'a', encoding='utf-8') as f :\n",
    "    f.write('제이슨,버즈프로,1,200000\\n')"
   ]
  },
  {
   "cell_type": "code",
   "execution_count": 4,
   "metadata": {},
   "outputs": [
    {
     "name": "stdout",
     "output_type": "stream",
     "text": [
      "고객명, 상품명, 수량, 금액\n",
      "\n",
      "최재진,폴드4,1,800000\n",
      "\n",
      "제이슨,버즈프로,1,200000\n",
      "\n"
     ]
    }
   ],
   "source": [
    "with open('orders.csv', 'r', encoding='utf-8') as f :\n",
    "    data = f.readlines()\n",
    "    for dt in data:\n",
    "        print(dt)"
   ]
  },
  {
   "cell_type": "code",
   "execution_count": 5,
   "metadata": {},
   "outputs": [
    {
     "data": {
      "text/plain": [
       "'제이슨,버즈프로,1,200000\\n'"
      ]
     },
     "execution_count": 5,
     "metadata": {},
     "output_type": "execute_result"
    }
   ],
   "source": [
    "dt"
   ]
  },
  {
   "cell_type": "code",
   "execution_count": 6,
   "metadata": {},
   "outputs": [
    {
     "data": {
      "text/plain": [
       "['고객명, 상품명, 수량, 금액\\n', '최재진,폴드4,1,800000\\n', '제이슨,버즈프로,1,200000\\n']"
      ]
     },
     "execution_count": 6,
     "metadata": {},
     "output_type": "execute_result"
    }
   ],
   "source": [
    "data"
   ]
  },
  {
   "cell_type": "code",
   "execution_count": 9,
   "metadata": {},
   "outputs": [
    {
     "name": "stdout",
     "output_type": "stream",
     "text": [
      "['고객명', ' 상품명', ' 수량', ' 금액']\n",
      "['최재진', '폴드4', '1', '800000']\n",
      "['제이슨', '버즈프로', '1', '200000']\n"
     ]
    },
    {
     "data": {
      "text/plain": [
       "[['고객명', ' 상품명', ' 수량', ' 금액'],\n",
       " ['최재진', '폴드4', '1', '800000'],\n",
       " ['제이슨', '버즈프로', '1', '200000']]"
      ]
     },
     "execution_count": 9,
     "metadata": {},
     "output_type": "execute_result"
    }
   ],
   "source": [
    "orders = []\n",
    "with open('orders.csv', 'r', encoding='utf-8') as f :\n",
    "    data = f.readlines()\n",
    "    for dt in data:\n",
    "        temp = dt.rstrip().split(',')\n",
    "        print(temp)\n",
    "        orders.append(temp)\n",
    "orders"
   ]
  },
  {
   "cell_type": "code",
   "execution_count": 13,
   "metadata": {},
   "outputs": [
    {
     "data": {
      "text/plain": [
       "[['고객명', ' 상품명', ' 수량', ' 금액'],\n",
       " ['최재진', '폴드4', '1', '800000'],\n",
       " ['제이슨', '버즈프로', '1', '200000']]"
      ]
     },
     "execution_count": 13,
     "metadata": {},
     "output_type": "execute_result"
    }
   ],
   "source": [
    "with open('orders.csv', 'r', encoding='utf-8') as f :\n",
    "    orders1 = [dt.rstrip().split(',') for dt in f.readlines()]\n",
    "orders1"
   ]
  },
  {
   "cell_type": "code",
   "execution_count": 20,
   "metadata": {},
   "outputs": [
    {
     "name": "stdout",
     "output_type": "stream",
     "text": [
      "c:\\Users\\Admin\\2022fin\\practice_ing\\RPA\n"
     ]
    }
   ],
   "source": [
    "cd ../"
   ]
  },
  {
   "cell_type": "code",
   "execution_count": 21,
   "metadata": {},
   "outputs": [
    {
     "data": {
      "text/plain": [
       "'c:\\\\Users\\\\Admin\\\\2022fin\\\\practice_ing\\\\RPA'"
      ]
     },
     "execution_count": 21,
     "metadata": {},
     "output_type": "execute_result"
    }
   ],
   "source": [
    "pwd"
   ]
  },
  {
   "cell_type": "code",
   "execution_count": 26,
   "metadata": {},
   "outputs": [
    {
     "data": {
      "text/plain": [
       "['2017.01.csv',\n",
       " '2017.02.csv',\n",
       " '2017.03.csv',\n",
       " '2017.04.csv',\n",
       " '2017.05.csv',\n",
       " '2017.06.csv',\n",
       " '2017.07.csv',\n",
       " '2017.08.csv',\n",
       " '2017.09.csv',\n",
       " '2017.10.csv',\n",
       " '2017.11.csv',\n",
       " '2017.12.csv']"
      ]
     },
     "execution_count": 26,
     "metadata": {},
     "output_type": "execute_result"
    }
   ],
   "source": [
    "csv_list = os.listdir('./실습2/csv_files/')\n",
    "csv_list"
   ]
  },
  {
   "cell_type": "code",
   "execution_count": 29,
   "metadata": {},
   "outputs": [],
   "source": [
    "csv_path = './실습2/csv_files/'"
   ]
  },
  {
   "cell_type": "code",
   "execution_count": 41,
   "metadata": {},
   "outputs": [
    {
     "name": "stdout",
     "output_type": "stream",
     "text": [
      "2017,01,7240000\n",
      "2017,02,7410000\n",
      "2017,03,7550000\n",
      "2017,04,7720000\n",
      "2017,05,7950000\n",
      "2017,06,7730000\n",
      "2017,07,8000000\n",
      "2017,08,7740000\n",
      "2017,09,7940000\n",
      "2017,10,7810000\n",
      "2017,11,7320000\n",
      "2017,12,8040000\n"
     ]
    }
   ],
   "source": [
    "with open('year_month_sum', 'w', encoding='utf-8') as y :\n",
    "    y.write('연도, 월, 매출\\n')\n",
    "    for csv in csv_list :\n",
    "        sum = 0 \n",
    "        year = csv.split('.')[0]\n",
    "        month = csv.split('.')[1]\n",
    "        with open((csv_path + csv), 'r') as f :\n",
    "            for dt in f.readlines()[1:]:\n",
    "                sum += int(dt.split(',')[1])\n",
    "        print(f'{year},{month},{sum}')\n",
    "        y.write(f'{year},{month},{sum}\\n')"
   ]
  }
 ],
 "metadata": {
  "kernelspec": {
   "display_name": "Python 3.8.10 64-bit (microsoft store)",
   "language": "python",
   "name": "python3"
  },
  "language_info": {
   "codemirror_mode": {
    "name": "ipython",
    "version": 3
   },
   "file_extension": ".py",
   "mimetype": "text/x-python",
   "name": "python",
   "nbconvert_exporter": "python",
   "pygments_lexer": "ipython3",
   "version": "3.8.10"
  },
  "orig_nbformat": 4,
  "vscode": {
   "interpreter": {
    "hash": "e3ada8b426290dd76767ba6368ea690ca67a7a436b12c3cf567e5cb72f89ca03"
   }
  }
 },
 "nbformat": 4,
 "nbformat_minor": 2
}
