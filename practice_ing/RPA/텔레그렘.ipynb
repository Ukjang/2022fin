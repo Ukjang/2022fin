{
 "cells": [
  {
   "cell_type": "code",
   "execution_count": 5,
   "metadata": {},
   "outputs": [],
   "source": [
    "import telegram"
   ]
  },
  {
   "cell_type": "code",
   "execution_count": 57,
   "metadata": {},
   "outputs": [],
   "source": [
    "with open(r'telegram.txt', 'r') as f :\n",
    "    bot_token = f.readline().rstrip().split('=')[-1]"
   ]
  },
  {
   "cell_type": "code",
   "execution_count": 26,
   "metadata": {},
   "outputs": [],
   "source": [
    "import telegram\n",
    "bot = telegram.Bot(bot_token)"
   ]
  },
  {
   "cell_type": "code",
   "execution_count": 25,
   "metadata": {},
   "outputs": [
    {
     "data": {
      "text/plain": [
       "<telegram.message.Message at 0x22281b3a300>"
      ]
     },
     "execution_count": 25,
     "metadata": {},
     "output_type": "execute_result"
    }
   ],
   "source": [
    "bot.send_message('5444420658', '이건가요?')"
   ]
  },
  {
   "cell_type": "code",
   "execution_count": 56,
   "metadata": {},
   "outputs": [
    {
     "data": {
      "text/plain": [
       "[<telegram.update.Update at 0x222822c4ac0>,\n",
       " <telegram.update.Update at 0x222822c4700>,\n",
       " <telegram.update.Update at 0x222822c4340>,\n",
       " <telegram.update.Update at 0x222822c4d00>,\n",
       " <telegram.update.Update at 0x222825c9880>,\n",
       " <telegram.update.Update at 0x222825c9280>,\n",
       " <telegram.update.Update at 0x222825c94c0>,\n",
       " <telegram.update.Update at 0x222825c9340>,\n",
       " <telegram.update.Update at 0x222825c91c0>,\n",
       " <telegram.update.Update at 0x222825c9040>,\n",
       " <telegram.update.Update at 0x222825c9580>]"
      ]
     },
     "execution_count": 56,
     "metadata": {},
     "output_type": "execute_result"
    }
   ],
   "source": [
    "updates"
   ]
  },
  {
   "cell_type": "code",
   "execution_count": 27,
   "metadata": {},
   "outputs": [
    {
     "name": "stdout",
     "output_type": "stream",
     "text": [
      "-786000241\n"
     ]
    }
   ],
   "source": [
    "updates = bot.getUpdates()\n",
    "# 신규메시지조회\n",
    "print(updates[-1].message.chat.id)\n",
    "# print(updates)"
   ]
  },
  {
   "cell_type": "code",
   "execution_count": 28,
   "metadata": {},
   "outputs": [
    {
     "data": {
      "text/plain": [
       "<telegram.message.Message at 0x22281b39e80>"
      ]
     },
     "execution_count": 28,
     "metadata": {},
     "output_type": "execute_result"
    }
   ],
   "source": [
    "bot.send_message('-786000241', '강사님~~~')"
   ]
  },
  {
   "cell_type": "code",
   "execution_count": 30,
   "metadata": {},
   "outputs": [
    {
     "data": {
      "text/plain": [
       "<telegram.message.Message at 0x22281b33940>"
      ]
     },
     "execution_count": 30,
     "metadata": {},
     "output_type": "execute_result"
    }
   ],
   "source": [
    "bot.send_photo('-786000241', open(r'C:\\Users\\Admin\\Downloads\\KakaoTalk_20220901_102738838.png', 'rb'))"
   ]
  },
  {
   "cell_type": "code",
   "execution_count": 31,
   "metadata": {},
   "outputs": [
    {
     "data": {
      "text/plain": [
       "<telegram.message.Message at 0x22281b37840>"
      ]
     },
     "execution_count": 31,
     "metadata": {},
     "output_type": "execute_result"
    }
   ],
   "source": [
    "bot.send_audio('-786000241', open(r'C:\\Users\\Admin\\Downloads\\벌쳐, 너 부모님 모셔와!.mp3', 'rb'))"
   ]
  },
  {
   "cell_type": "code",
   "execution_count": 32,
   "metadata": {},
   "outputs": [
    {
     "data": {
      "text/plain": [
       "<telegram.message.Message at 0x22281b2fa40>"
      ]
     },
     "execution_count": 32,
     "metadata": {},
     "output_type": "execute_result"
    }
   ],
   "source": [
    "bot.send_video('-786000241', open(r'C:\\Users\\Admin\\Downloads\\벌쳐, 너 부모님 모셔와!.mp4', 'rb'))"
   ]
  },
  {
   "cell_type": "code",
   "execution_count": 51,
   "metadata": {},
   "outputs": [
    {
     "name": "stdout",
     "output_type": "stream",
     "text": [
      "-447930618\n"
     ]
    }
   ],
   "source": [
    "updates = bot.getUpdates()\n",
    "# 신규메시지조회\n",
    "print(updates[-1].message.chat.id)"
   ]
  },
  {
   "cell_type": "code",
   "execution_count": 53,
   "metadata": {},
   "outputs": [
    {
     "data": {
      "text/plain": [
       "<telegram.message.Message at 0x22281b38a40>"
      ]
     },
     "execution_count": 53,
     "metadata": {},
     "output_type": "execute_result"
    }
   ],
   "source": [
    "bot.send_video('-447930618', open(r'C:\\Users\\Admin\\Downloads\\벌쳐, 너 부모님 모셔와!.mp4', 'rb'))"
   ]
  },
  {
   "cell_type": "code",
   "execution_count": 39,
   "metadata": {},
   "outputs": [
    {
     "name": "stdout",
     "output_type": "stream",
     "text": [
      "-667337734\n"
     ]
    }
   ],
   "source": [
    "print(updates[-2].message.chat.id)"
   ]
  },
  {
   "cell_type": "code",
   "execution_count": null,
   "metadata": {},
   "outputs": [],
   "source": [
    "# 강사님 채팅방\n",
    "'-786000241'\n",
    "# 한아누나 채팅방\n",
    "'-602552258'\n",
    "# 5조 실습\n",
    "'-667337734'\n",
    "# SeSAC 채팅방\n",
    "'-44793061'\n"
   ]
  },
  {
   "cell_type": "code",
   "execution_count": 50,
   "metadata": {},
   "outputs": [
    {
     "name": "stdout",
     "output_type": "stream",
     "text": [
      "-602552258\n"
     ]
    }
   ],
   "source": [
    "print(updates[-1].message.chat.id)"
   ]
  },
  {
   "cell_type": "code",
   "execution_count": 41,
   "metadata": {},
   "outputs": [
    {
     "data": {
      "text/plain": [
       "<telegram.message.Message at 0x22281b39580>"
      ]
     },
     "execution_count": 41,
     "metadata": {},
     "output_type": "execute_result"
    }
   ],
   "source": [
    "bot.send_photo('-667337734', open(r'C:\\Users\\Admin\\Downloads\\KakaoTalk_20220901_102738838.png', 'rb'))"
   ]
  },
  {
   "cell_type": "code",
   "execution_count": 46,
   "metadata": {},
   "outputs": [
    {
     "data": {
      "text/plain": [
       "<telegram.message.Message at 0x22281b3b740>"
      ]
     },
     "execution_count": 46,
     "metadata": {},
     "output_type": "execute_result"
    }
   ],
   "source": [
    "bot.send_message('-602552258', 'https://youtu.be/AA621UofTUA')"
   ]
  }
 ],
 "metadata": {
  "kernelspec": {
   "display_name": "Python 3.8.10 64-bit (microsoft store)",
   "language": "python",
   "name": "python3"
  },
  "language_info": {
   "codemirror_mode": {
    "name": "ipython",
    "version": 3
   },
   "file_extension": ".py",
   "mimetype": "text/x-python",
   "name": "python",
   "nbconvert_exporter": "python",
   "pygments_lexer": "ipython3",
   "version": "3.8.10"
  },
  "orig_nbformat": 4,
  "vscode": {
   "interpreter": {
    "hash": "e3ada8b426290dd76767ba6368ea690ca67a7a436b12c3cf567e5cb72f89ca03"
   }
  }
 },
 "nbformat": 4,
 "nbformat_minor": 2
}
