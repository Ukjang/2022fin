{
 "cells": [
  {
   "cell_type": "code",
   "execution_count": 17,
   "metadata": {},
   "outputs": [],
   "source": [
    "SMTP_SERVER = 'smtp.naver.com'\n",
    "SMTP_PORT = 465\n",
    "SMTP_USER = 'bedro950615@naver.com'\n",
    "SMTP_PASSWORD = open('./email_config.txt' ,'r').read().rstrip()"
   ]
  },
  {
   "cell_type": "code",
   "execution_count": 18,
   "metadata": {},
   "outputs": [
    {
     "data": {
      "text/plain": [
       "'g!string901558'"
      ]
     },
     "execution_count": 18,
     "metadata": {},
     "output_type": "execute_result"
    }
   ],
   "source": [
    "SMTP_PASSWORD"
   ]
  },
  {
   "cell_type": "code",
   "execution_count": 19,
   "metadata": {},
   "outputs": [],
   "source": [
    "from email.mime.multipart import MIMEMultipart\n",
    "from email.mime.text import MIMEText\n",
    "\n",
    "# 편지봉투 만들기\n",
    "msg = MIMEMultipart('alternative')\n",
    "\n",
    "# 첨부파일여부\n",
    "\n",
    "# 편지내용\n",
    "contents = '테스트'\n",
    "\n",
    "msg['From'] = SMTP_USER\n",
    "msg['To'] = SMTP_USER\n",
    "msg['Subject'] = '제목제목'\n",
    "\n",
    "text = MIMEText(contents)\n",
    "msg.attach(text)"
   ]
  },
  {
   "cell_type": "code",
   "execution_count": 33,
   "metadata": {},
   "outputs": [],
   "source": [
    "from email.mime.base import MIMEBase\n",
    "from email import encoders\n",
    "# basename 은 파일명만 뽑아냄. 중간주소 삭제\n",
    "from os.path import basename\n",
    "\n",
    "email_file= MIMEBase('application', 'octet-stream')\n",
    "\n",
    "file_path = r'orders.csv'\n",
    "\n",
    "# 바이너리 리드\n",
    "with open(file_path, 'rb') as f:\n",
    "    file_data= f.read()\n",
    "\n",
    "# 파일데이터를 첨부파일에 담아준다.\n",
    "email_file.set_payload(file_data)\n",
    "encoders.encode_base64(email_file)\n",
    "\n",
    "file_name= basename(file_path)\n",
    "email_file.add_header('Content-Disposition', 'attachment', filename=file_name,)\n",
    "msg.attach(email_file)"
   ]
  },
  {
   "cell_type": "code",
   "execution_count": 34,
   "metadata": {},
   "outputs": [
    {
     "name": "stdout",
     "output_type": "stream",
     "text": [
      "메일 전송 서버 접속 성공\n",
      "로그인 성공!\n",
      "이메일 발송 성공!\n"
     ]
    }
   ],
   "source": [
    "import smtplib \n",
    "\n",
    "try : \n",
    "    smtp = smtplib.SMTP_SSL(SMTP_SERVER, SMTP_PORT) \n",
    "    print('메일 전송 서버 접속 성공')\n",
    "    smtp.login(SMTP_USER, SMTP_PASSWORD)\n",
    "    print('로그인 성공!')\n",
    "    smtp.sendmail(SMTP_USER, SMTP_USER, msg.as_string())\n",
    "    print('이메일 발송 성공!')\n",
    "except Exception as e :\n",
    "    print('#### 에러 발생 ####')\n",
    "    print(e)\n",
    "    #에러 났을때\n",
    "    pass\n",
    "finally:\n",
    "    # 에러여부 상관없이 반드시 실행\n",
    "    smtp.close()    "
   ]
  },
  {
   "cell_type": "code",
   "execution_count": 76,
   "metadata": {},
   "outputs": [],
   "source": [
    "from email.mime.multipart import MIMEMultipart\n",
    "from email.mime.text import MIMEText\n",
    "from email.mime.base import MIMEBase\n",
    "from email import encoders\n",
    "from os.path import basename\n",
    "import smtplib \n",
    "\n",
    "def send_email(SMTP_SERVER, SMTP_PORT, SMTP_USER, TO_USER, SMTP_PASSWORD, contents, title='제목',file_path=False):\n",
    "    # 편지봉투 만들기\n",
    "    msg = MIMEMultipart('mixed')\n",
    "\n",
    "    # 첨부파일여부\n",
    "    if file_path != False :\n",
    "        try :\n",
    "            email_file= MIMEBase('application', 'octet-stream')\n",
    "            # 바이너리 리드\n",
    "            with open(file_path, 'rb') as f:\n",
    "                file_data= f.read()\n",
    "            email_file.set_payload(file_data)\n",
    "            encoders.encode_base64(email_file)\n",
    "            file_name= basename(file_path)\n",
    "            email_file.add_header('Content-Disposition', 'attachment', filename=file_name,)\n",
    "            msg.attach(email_file)\n",
    "            print('첨부파일 확인 완료')\n",
    "        except :\n",
    "            print('파일 경로를 확인하세요')\n",
    "\n",
    "    # msg에 값으로 넣어줌\n",
    "    msg['From'] = SMTP_USER\n",
    "    msg['To'] = TO_USER\n",
    "    msg['Subject'] = title\n",
    "    text = MIMEText(contents)\n",
    "    msg.attach(text)\n",
    "\n",
    "    try : \n",
    "        smtp = smtplib.SMTP_SSL(SMTP_SERVER, SMTP_PORT) \n",
    "        print('메일 전송 서버 접속 성공')\n",
    "        smtp.login(SMTP_USER, SMTP_PASSWORD)\n",
    "        print('로그인 성공!')\n",
    "        smtp.sendmail(SMTP_USER, TO_USER, msg.as_string())\n",
    "        print('이메일 발송 성공!')\n",
    "    except Exception as e :\n",
    "        print('#### 에러 발생 ####')\n",
    "        print(e)\n",
    "        #에러 났을때\n",
    "        pass\n",
    "    finally:\n",
    "        # 에러여부 상관없이 반드시 실행\n",
    "        smtp.close()   "
   ]
  },
  {
   "cell_type": "code",
   "execution_count": 70,
   "metadata": {},
   "outputs": [
    {
     "name": "stdout",
     "output_type": "stream",
     "text": [
      "첨부파일 확인 완료\n",
      "메일 전송 서버 접속 성공\n",
      "로그인 성공!\n",
      "이메일 발송 성공!\n"
     ]
    }
   ],
   "source": [
    "SMTP_SERVER = 'smtp.naver.com'\n",
    "SMTP_PORT = 465\n",
    "SMTP_USER = 'bedro950615@naver.com'\n",
    "TO_USER = 'bedro950615@naver.com'\n",
    "SMTP_PASSWORD = open('./email_config.txt' ,'r').read().rstrip()\n",
    "contents = '함수화'\n",
    "title = '연습'\n",
    "file_path = r'orders.csv'\n",
    "send_email(SMTP_SERVER, SMTP_PORT, SMTP_USER, TO_USER, SMTP_PASSWORD, contents, title=title,file_path=file_path)"
   ]
  },
  {
   "cell_type": "code",
   "execution_count": 51,
   "metadata": {},
   "outputs": [
    {
     "data": {
      "text/plain": [
       "[['이태화', 'svstar94@gmail.com'],\n",
       " ['이정은', 'svstar94@gmail.com'],\n",
       " ['김용성', 'svstar94@gmail.com'],\n",
       " ['이은혜', 'svstar94@gmail.com'],\n",
       " ['한웅희', 'svstar94@gmail.com'],\n",
       " ['조윤장', 'svstar94@gmail.com'],\n",
       " ['이하니', 'svstar94@gmail.com'],\n",
       " ['김해인', 'svstar94@gmail.com'],\n",
       " ['이지영', 'svstar94@gmail.com'],\n",
       " ['최두성', 'svstar94@gmail.com']]"
      ]
     },
     "execution_count": 51,
     "metadata": {},
     "output_type": "execute_result"
    }
   ],
   "source": [
    "import openpyxl\n",
    "read_excel = openpyxl.load_workbook(r'실습5\\수강생_결제정보.xlsx' , read_only = True)\n",
    "target_sheet = read_excel.active\n",
    "cnt = 0\n",
    "email_list = []\n",
    "for row in target_sheet.iter_rows():\n",
    "    if row[3].value == '결제완료':\n",
    "        email_list.append([row[0].value, row[1].value])\n",
    "email_list"
   ]
  },
  {
   "cell_type": "code",
   "execution_count": 75,
   "metadata": {},
   "outputs": [
    {
     "name": "stdout",
     "output_type": "stream",
     "text": [
      "첨부파일 확인 완료\n",
      "메일 전송 서버 접속 성공\n",
      "로그인 성공!\n",
      "이메일 발송 성공!\n"
     ]
    }
   ],
   "source": [
    "SMTP_SERVER = 'smtp.naver.com'\n",
    "SMTP_PORT = 465\n",
    "SMTP_USER = 'bedro950615@naver.com'\n",
    "TO_USER = ','.join([email[1] for email in email_list]) + ',bedro950615@naver.com'\n",
    "SMTP_PASSWORD = open('./email_config.txt' ,'r').read().rstrip()\n",
    "title = '실습5 신재웅 강사님 감사합니다'\n",
    "contents = '결제완료 하신분들에게 커리큘럼 자료 첨부합니다.'\n",
    "file_path = r'실습5\\커리큘럼.xlsx'\n",
    "send_email(SMTP_SERVER, SMTP_PORT, SMTP_USER, TO_USER, SMTP_PASSWORD, contents, title=title,file_path=file_path)"
   ]
  },
  {
   "cell_type": "code",
   "execution_count": 66,
   "metadata": {},
   "outputs": [
    {
     "data": {
      "text/plain": [
       "True"
      ]
     },
     "execution_count": 66,
     "metadata": {},
     "output_type": "execute_result"
    }
   ],
   "source": [
    "file_path != False"
   ]
  },
  {
   "cell_type": "code",
   "execution_count": 63,
   "metadata": {},
   "outputs": [
    {
     "data": {
      "text/plain": [
       "'svstar94@gmail.com,svstar94@gmail.com,svstar94@gmail.com,svstar94@gmail.com,svstar94@gmail.com,svstar94@gmail.com,svstar94@gmail.com,svstar94@gmail.com,svstar94@gmail.com,svstar94@gmail.com,bedro950615@naver.com'"
      ]
     },
     "execution_count": 63,
     "metadata": {},
     "output_type": "execute_result"
    }
   ],
   "source": [
    "TO_USER"
   ]
  }
 ],
 "metadata": {
  "kernelspec": {
   "display_name": "Python 3.8.10 64-bit (microsoft store)",
   "language": "python",
   "name": "python3"
  },
  "language_info": {
   "codemirror_mode": {
    "name": "ipython",
    "version": 3
   },
   "file_extension": ".py",
   "mimetype": "text/x-python",
   "name": "python",
   "nbconvert_exporter": "python",
   "pygments_lexer": "ipython3",
   "version": "3.8.10"
  },
  "orig_nbformat": 4,
  "vscode": {
   "interpreter": {
    "hash": "e3ada8b426290dd76767ba6368ea690ca67a7a436b12c3cf567e5cb72f89ca03"
   }
  }
 },
 "nbformat": 4,
 "nbformat_minor": 2
}
