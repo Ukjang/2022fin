{
 "cells": [
  {
   "cell_type": "code",
   "execution_count": 1,
   "id": "0d6e5ec3",
   "metadata": {},
   "outputs": [],
   "source": [
    "import re"
   ]
  },
  {
   "cell_type": "code",
   "execution_count": null,
   "id": "daa1c5ec",
   "metadata": {},
   "outputs": [],
   "source": [
    "# match(), 문자열 처음부터 매치여부를 조사, 객체 리턴\n",
    "# search(), 문자열 전체를 조사, 처음 검색된 최초 문자열 객체 리턴\n",
    "# findall(), 매치되는 모든 문자열 리스트로 리턴\n",
    "# finditer(), 매치되는 모든 문자열의 반복가능한 객체로 리턴"
   ]
  },
  {
   "cell_type": "code",
   "execution_count": 7,
   "id": "47172ed9",
   "metadata": {},
   "outputs": [
    {
     "name": "stdout",
     "output_type": "stream",
     "text": [
      "<re.Match object; span=(0, 3), match='I l'>\n"
     ]
    }
   ],
   "source": [
    "text = \"I like orange! I love orange!\"\n",
    "\n",
    "# re.match(정규표현식, 대상 텍스트)\n",
    "result = re.match('orange', text)\n",
    "print(result)"
   ]
  },
  {
   "cell_type": "code",
   "execution_count": 9,
   "id": "40292522",
   "metadata": {},
   "outputs": [
    {
     "name": "stdout",
     "output_type": "stream",
     "text": [
      "<re.Match object; span=(7, 13), match='orange'>\n"
     ]
    }
   ],
   "source": [
    "# re.search(정규표현식, 대상 텍스트)\n",
    "result = re.search('orange', text)\n",
    "print(result)"
   ]
  },
  {
   "cell_type": "code",
   "execution_count": 10,
   "id": "3fc91115",
   "metadata": {},
   "outputs": [
    {
     "name": "stdout",
     "output_type": "stream",
     "text": [
      "['orange', 'orange']\n"
     ]
    }
   ],
   "source": [
    "result = re.findall('orange', text)\n",
    "print(result)"
   ]
  },
  {
   "cell_type": "code",
   "execution_count": 14,
   "id": "82f2c6ee",
   "metadata": {},
   "outputs": [
    {
     "name": "stdout",
     "output_type": "stream",
     "text": [
      "<callable_iterator object at 0x00000209D77208E0>\n"
     ]
    }
   ],
   "source": [
    "result = re.finditer('orange', text)\n",
    "print(result)"
   ]
  },
  {
   "cell_type": "code",
   "execution_count": 15,
   "id": "905110c1",
   "metadata": {},
   "outputs": [
    {
     "name": "stdout",
     "output_type": "stream",
     "text": [
      "group(): orange\n",
      "start(): 7\n",
      "end(): 13\n",
      "span(): (7, 13)\n",
      "\n",
      "group(): orange\n",
      "start(): 22\n",
      "end(): 28\n",
      "span(): (22, 28)\n",
      "\n"
     ]
    }
   ],
   "source": [
    "for r in result:\n",
    "    print('group():', r.group())\n",
    "    print('start():', r.start())\n",
    "    print('end():', r.end())\n",
    "    print('span():', r.span())\n",
    "    \n",
    "    print()"
   ]
  },
  {
   "cell_type": "code",
   "execution_count": 16,
   "id": "620c1964",
   "metadata": {},
   "outputs": [],
   "source": [
    "news = \"\"\"전국 언론 노동자들이 시민사회단체와 함께 네이버의 지역 차별을 규탄하고 개선을 촉구하는 무기한 릴레이 시위에 돌입했다.\n",
    "\n",
    "전국언론노조와 전국 민주언론시민연합(민언련)은 1일 오전 11시 30분 경기도 성남시의 네이버 본사(그린팩토리) 앞에서 1인 시위를 시작했다. 이날 시위에는 오정훈 전국언론노동조합위원장, 전대식 지역신문노동조합협의회 의장(부산일보 지부장), 김명래 경인일보지부장, 민진영 경기민주언론시민연합 사무처장 등이 참여했다.\n",
    "\n",
    "이들은 1인 시위를 통해 ‘네이버 뉴스 서비스 지역 언론 배제 개선’을 요구하고 ‘지역 공론장 형성을 위한 네이버의 공적 책임’을 촉구했다. 전국언론노조와 민언련은 매주 월요일마다 네이버 본사 앞 시위를 진행할 예정이다.\n",
    "\n",
    "네이버는 최근 뉴스 서비스에 인공지능 에어스(AiRS) 알고리즘을 적용하는 방식으로 뉴스 편집 기능을 개편했다. 이후 지역 언론사 뉴스의 노출이 현격하게 줄어들었다. 아울러 100여 개 모바일 콘텐츠 제휴 언론사 중 독자가 구독을 선택할 수 있는 ‘채널’ 제휴사 44곳을 선정했는데 이 과정에서 지역 언론을 철저하게 배제했다. 이에 반발해 전국언론노조뿐 아니라 한국지방신문협회, 대한민국지방신문협의회 등 지역 신문 단체도 공동 성명을 발표하며 개선을 요구하고 나섰다. 전국시도의회의장협의회는 최근 총회에서 ‘네이버 지역 언론 배제 반대 성명’을 채택하기도 했다. 하지만 이 같은 반발에도 네이버는 뚜렷한 해결책을 내지 않고 있다.\n",
    "\n",
    "오정훈 위원장은 1인 시위에서 “네이버는 해결책을 내놓기는커녕 뉴스제휴평가위원회에만 책임을 떠넘기고 있다”며 “지역 언론 배제 문제의 해결을 위한 대화 요구에 즉각 응답해 뉴스 유통사업자로서의 사회적 역할을 수행해야 한다”고 촉구했다.\n",
    "\n",
    "전대식 의장은 “2005년 당시 네이버는 모든 언론사에 뉴스 유통망을 제공하는 우군이었지만 15년 만에 갑질하고 횡포하는 기업으로 전락했다”며 “지역 언론 종사자들이 만든 콘텐츠가 네이버에서 사라진 현실을 놓고 대화하고 상생적으로 풀어야 한다”면서 협의 창구 개설을 요구했다.\n",
    "\n",
    "민언련은 국내 1위 포털 네이버가 지역 공론장을 만드는 사회적 책임을 외면하는 것은 현 정부의 지방분권 강화 정책에 위배되는 것이라고 지적했다.\n",
    "\n",
    "민진영 사무처장은 “네이버가 지역신문에 대한 보도를 배제하고 시민들과의 소통 창구를 차단하는 것은 현 정부 정책인 지방분권 강화, 민주주의 정착이라는 큰 의제를 거역하는 것”이라며 “이런 행태는 반드시 중단돼야 하고 다양한 소식들이 소비자와 시민에게 전달돼야 한다”고 강조했다.\n",
    "\n",
    "출처 : 제주新보(http://www.jejunews.com)\"\"\""
   ]
  },
  {
   "cell_type": "code",
   "execution_count": 22,
   "id": "d497c94f",
   "metadata": {},
   "outputs": [],
   "source": [
    "result = re.finditer('네이버', news)"
   ]
  },
  {
   "cell_type": "code",
   "execution_count": 25,
   "id": "a12605ac",
   "metadata": {},
   "outputs": [
    {
     "name": "stdout",
     "output_type": "stream",
     "text": [
      "13\n"
     ]
    }
   ],
   "source": [
    "count = 0\n",
    "for r in result:\n",
    "    count+=1\n",
    "print(count)"
   ]
  },
  {
   "cell_type": "code",
   "execution_count": 21,
   "id": "22f6abb4",
   "metadata": {},
   "outputs": [
    {
     "data": {
      "text/plain": [
       "13"
      ]
     },
     "execution_count": 21,
     "metadata": {},
     "output_type": "execute_result"
    }
   ],
   "source": [
    "len(result)"
   ]
  },
  {
   "cell_type": "code",
   "execution_count": 26,
   "id": "cf01ffc3",
   "metadata": {},
   "outputs": [],
   "source": [
    "numbers = '''010-2334-3234\n",
    "02-302-3033\n",
    "010-1321-4043\n",
    "02-01-32\n",
    "33-3303-3033\n",
    "016-444-3042'''"
   ]
  },
  {
   "cell_type": "code",
   "execution_count": 28,
   "id": "e9019575",
   "metadata": {},
   "outputs": [
    {
     "name": "stdout",
     "output_type": "stream",
     "text": [
      "['010-2334-3234', '010-1321-4043', '016-444-3042']\n"
     ]
    }
   ],
   "source": [
    "numbers\n",
    "\n",
    "handphones = re.findall('[0-9]{3}-[0-9]{3,4}-[0-9]{4}', numbers)\n",
    "print(handphones)"
   ]
  },
  {
   "cell_type": "code",
   "execution_count": 31,
   "id": "c27d0315",
   "metadata": {},
   "outputs": [],
   "source": [
    "numbers += '667-333-2345'"
   ]
  },
  {
   "cell_type": "code",
   "execution_count": 32,
   "id": "b87aff32",
   "metadata": {},
   "outputs": [
    {
     "name": "stdout",
     "output_type": "stream",
     "text": [
      "['010-2334-3234', '010-1321-4043', '016-444-3042', '667-333-2345']\n"
     ]
    }
   ],
   "source": [
    "handphones = re.finditer('[0-9]{3}-[0-9]{3,4}-[0-9]{4}', numbers)\n",
    "\n",
    "# for handphone in handphones:\n",
    "#     print(handphone.group())\n",
    "\n",
    "result = [handphone.group() for handphone in handphones]\n",
    "print(result)"
   ]
  },
  {
   "cell_type": "code",
   "execution_count": null,
   "id": "9bca5610",
   "metadata": {},
   "outputs": [],
   "source": [
    "import re\n",
    "text = \"\"\"\n",
    "수강해야하는 과목\n",
    "(machine learning, deep learning)\n",
    "수강한 과목\n",
    "[python, django, web design]\n",
    "\"\"\"\n",
    "re.sub('\\[.+\\]', '', text)"
   ]
  },
  {
   "cell_type": "code",
   "execution_count": 34,
   "id": "30eaac12",
   "metadata": {},
   "outputs": [
    {
     "name": "stdout",
     "output_type": "stream",
     "text": [
      "\n",
      "수강해야하는 과목\n",
      "(machine learning, deep learning)\n",
      "수강한 과목\n",
      "\n",
      "\n"
     ]
    }
   ],
   "source": [
    "import re\n",
    "text = \"\"\"\n",
    "수강해야하는 과목\n",
    "(machine learning, deep learning)\n",
    "수강한 과목\n",
    "[python, django, web design]\n",
    "\"\"\"\n",
    "print(re.sub('\\[.+\\]', '', text))"
   ]
  },
  {
   "cell_type": "code",
   "execution_count": 35,
   "id": "d6c856e0",
   "metadata": {},
   "outputs": [
    {
     "data": {
      "text/plain": [
       "'수강 해 야하 는 과목'"
      ]
     },
     "execution_count": 35,
     "metadata": {},
     "output_type": "execute_result"
    }
   ],
   "source": [
    "text = '수강                  해           야하        는 과목'\n",
    "re.sub('[ ]{2,}', ' ', text)"
   ]
  },
  {
   "cell_type": "code",
   "execution_count": null,
   "id": "11edc0dc",
   "metadata": {},
   "outputs": [],
   "source": []
  },
  {
   "cell_type": "code",
   "execution_count": null,
   "id": "cc2c4e5b",
   "metadata": {},
   "outputs": [],
   "source": []
  },
  {
   "cell_type": "code",
   "execution_count": 36,
   "id": "061b4caa",
   "metadata": {},
   "outputs": [
    {
     "data": {
      "text/plain": [
       "['jkilee@gmail.com',\n",
       " 'kttredef@naver.com',\n",
       " 'adekik@best.kr',\n",
       " 'adefgree@korea.co.kr']"
      ]
     },
     "execution_count": 36,
     "metadata": {},
     "output_type": "execute_result"
    }
   ],
   "source": [
    "text = \"\"\"jkilee@gmail.com\n",
    "kttredef@naver.com\n",
    "akdef!aa.com\n",
    "adekik@best.kr\n",
    "abkereff@aacde\n",
    "adefgree@korea.co.kr\"\"\"\n",
    "\n",
    "re.findall('\\w+\\@\\w+\\.[a-z]{2,}[\\.a-zA-Z0-9]{0,3}', text)"
   ]
  },
  {
   "cell_type": "code",
   "execution_count": null,
   "id": "9eab1e3d",
   "metadata": {},
   "outputs": [],
   "source": []
  },
  {
   "cell_type": "code",
   "execution_count": 37,
   "id": "2fd0479d",
   "metadata": {},
   "outputs": [
    {
     "data": {
      "text/plain": [
       "'안녕하세요 저는 홍길동 입니다.\\n나이는 24살 세계 최고의 데이터 분석가가 되고싶습니다.'"
      ]
     },
     "execution_count": 37,
     "metadata": {},
     "output_type": "execute_result"
    }
   ],
   "source": [
    "text = \"\"\"안녕하세요 저는 <em>홍길동</em> 입니다.\n",
    "나이는 24살 세계 최고의 <a href=\"aa.aa.com\">데이터 분석가</a>가 되고싶습니다.\"\"\"\n",
    "\n",
    "re.sub('\\<[^\\>]*\\>', '', text)"
   ]
  },
  {
   "cell_type": "code",
   "execution_count": null,
   "id": "2bc63b1a",
   "metadata": {},
   "outputs": [],
   "source": []
  },
  {
   "cell_type": "code",
   "execution_count": 42,
   "id": "6e0fad4d",
   "metadata": {},
   "outputs": [
    {
     "data": {
      "text/plain": [
       "['<span>네이버가 뉴스 서비스에 인공지능(AI)을 도입해 페이지 뷰(PV)를 늘리고 이용자를 끌어 모으고 있다.</span>',\n",
       " '<span>네이버는 5일 오전 서울 강남구 그랜드 인터컨티넨털 호텔에서 AI 콜로키움 2019를 열고 이 같은 AI 성과와 전략을 소개했다.</span>',\n",
       " '<span>이날 기조연설에서 김광현 네이버 서치앤클로바 리더는 \"AI 뉴스 추천 시스템인 에어스(AiRS)를 도입하면서 뉴스 소비량이 확대되고 있다\" 고 말했다.</span>']"
      ]
     },
     "execution_count": 42,
     "metadata": {},
     "output_type": "execute_result"
    }
   ],
   "source": [
    "text = \"\"\"<p><span>네이버가 뉴스 서비스에 인공지능(AI)을 도입해 페이지 뷰(PV)를 늘리고 이용자를 끌어 모으고 있다.</span><span>네이버는 5일 오전 서울 강남구 그랜드 인터컨티넨털 호텔에서 AI 콜로키움 2019를 열고 이 같은 AI 성과와 전략을 소개했다.</span><span>이날 기조연설에서 김광현 네이버 서치앤클로바 리더는 \"AI 뉴스 추천 시스템인 에어스(AiRS)를 도입하면서 뉴스 소비량이 확대되고 있다\" 고 말했다.</span></p>\"\"\"\n",
    "\n",
    "sentences = re.finditer('\\<span\\>[^\\<]*\\<\\/span\\>', text)\n",
    "# print(sentences)\n",
    "# print()\n",
    "\n",
    "results = []\n",
    "for sentence in sentences:\n",
    "    # print(sentence.group())\n",
    "    results.append(sentence.group())\n",
    "\n",
    "results"
   ]
  },
  {
   "cell_type": "code",
   "execution_count": 43,
   "id": "b3d6b2e1",
   "metadata": {},
   "outputs": [
    {
     "data": {
      "text/plain": [
       "3"
      ]
     },
     "execution_count": 43,
     "metadata": {},
     "output_type": "execute_result"
    }
   ],
   "source": [
    "len(results)"
   ]
  },
  {
   "cell_type": "code",
   "execution_count": 47,
   "id": "5c1ae520",
   "metadata": {},
   "outputs": [],
   "source": [
    "final_result = []\n",
    "for result in results:\n",
    "    final_result.append(re.sub('\\<[^\\>]+\\>', '', result))"
   ]
  },
  {
   "cell_type": "code",
   "execution_count": 48,
   "id": "0c449b86",
   "metadata": {},
   "outputs": [
    {
     "data": {
      "text/plain": [
       "['네이버가 뉴스 서비스에 인공지능(AI)을 도입해 페이지 뷰(PV)를 늘리고 이용자를 끌어 모으고 있다.',\n",
       " '네이버는 5일 오전 서울 강남구 그랜드 인터컨티넨털 호텔에서 AI 콜로키움 2019를 열고 이 같은 AI 성과와 전략을 소개했다.',\n",
       " '이날 기조연설에서 김광현 네이버 서치앤클로바 리더는 \"AI 뉴스 추천 시스템인 에어스(AiRS)를 도입하면서 뉴스 소비량이 확대되고 있다\" 고 말했다.']"
      ]
     },
     "execution_count": 48,
     "metadata": {},
     "output_type": "execute_result"
    }
   ],
   "source": [
    "final_result"
   ]
  },
  {
   "cell_type": "code",
   "execution_count": 49,
   "id": "41a34732",
   "metadata": {},
   "outputs": [
    {
     "name": "stdout",
     "output_type": "stream",
     "text": [
      "네이버가 뉴스 service에 인공지능(AI)p을 도입해 페이지 뷰(PV)를a 늘리고n 이용자를 끌어 모으고 있다.\n",
      "네이버는 5일 오전 서울 강남구 그랜드 인터컨티넨털 호텔에서 AI 콜로키움 2019를 열고 이 같은 AI 성과와 전략을 소개했다.\n",
      "이날 기조연설에서 김광현 네이버 서치앤클로바 리더는 \"AI 뉴스 추천 시스템인 에어스(AiRS)를 도입하면서 뉴스 소비량이 확대되고 있다\" 고 말했다.\n"
     ]
    }
   ],
   "source": [
    "text = '<p><span>네이버가 뉴스 service에 인공지능(AI)p을 도입해 페이지 뷰(PV)를a 늘리고n 이용자를 끌어 모으고 있다.</span><span>네이버는 5일 오전 서울 강남구 그랜드 인터컨티넨털 호텔에서 AI 콜로키움 2019를 열고 이 같은 AI 성과와 전략을 소개했다.</span><span>이날 기조연설에서 김광현 네이버 서치앤클로바 리더는 \"AI 뉴스 추천 시스템인 에어스(AiRS)를 도입하면서 뉴스 소비량이 확대되고 있다\" 고 말했다.</span></p>'\n",
    "\n",
    "results = re.finditer('(?<=\\<span\\>)[^\\<]*(?=\\<\\/span\\>)', text)\n",
    "\n",
    "for result in results:\n",
    "    print(result.group())"
   ]
  },
  {
   "cell_type": "code",
   "execution_count": null,
   "id": "8a4fd762",
   "metadata": {},
   "outputs": [],
   "source": []
  },
  {
   "cell_type": "code",
   "execution_count": null,
   "id": "432b15f1",
   "metadata": {},
   "outputs": [],
   "source": []
  },
  {
   "cell_type": "code",
   "execution_count": null,
   "id": "75a322b7",
   "metadata": {},
   "outputs": [],
   "source": []
  },
  {
   "cell_type": "code",
   "execution_count": null,
   "id": "6372aab5",
   "metadata": {},
   "outputs": [],
   "source": []
  },
  {
   "cell_type": "code",
   "execution_count": null,
   "id": "27b58107",
   "metadata": {},
   "outputs": [],
   "source": []
  },
  {
   "cell_type": "code",
   "execution_count": null,
   "id": "69fadc6d",
   "metadata": {},
   "outputs": [],
   "source": []
  },
  {
   "cell_type": "code",
   "execution_count": null,
   "id": "0d587b50",
   "metadata": {},
   "outputs": [],
   "source": []
  },
  {
   "cell_type": "code",
   "execution_count": null,
   "id": "7613e78a",
   "metadata": {},
   "outputs": [],
   "source": []
  }
 ],
 "metadata": {
  "kernelspec": {
   "display_name": "Python 3 (ipykernel)",
   "language": "python",
   "name": "python3"
  },
  "language_info": {
   "codemirror_mode": {
    "name": "ipython",
    "version": 3
   },
   "file_extension": ".py",
   "mimetype": "text/x-python",
   "name": "python",
   "nbconvert_exporter": "python",
   "pygments_lexer": "ipython3",
   "version": "3.9.12"
  }
 },
 "nbformat": 4,
 "nbformat_minor": 5
}
