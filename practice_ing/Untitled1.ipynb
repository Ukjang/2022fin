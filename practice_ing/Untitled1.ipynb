{
 "cells": [
  {
   "cell_type": "code",
   "execution_count": 5,
   "id": "ca6473b9",
   "metadata": {},
   "outputs": [],
   "source": [
    "with open('abc.txt', 'w', encoding='utf-8') as f:\n",
    "    f.write('안녕하세요')"
   ]
  },
  {
   "cell_type": "code",
   "execution_count": 7,
   "id": "1d703746",
   "metadata": {},
   "outputs": [],
   "source": [
    "import pickle\n",
    "\n"
   ]
  },
  {
   "cell_type": "code",
   "execution_count": 8,
   "id": "eed5f149",
   "metadata": {},
   "outputs": [],
   "source": [
    "data = [3, 5, 7]"
   ]
  },
  {
   "cell_type": "code",
   "execution_count": 100,
   "id": "0f2fc07e",
   "metadata": {},
   "outputs": [],
   "source": [
    "with open('abc.pkl', 'wb') as f:\n",
    "    pickle.dump(data, f)"
   ]
  },
  {
   "cell_type": "code",
   "execution_count": 21,
   "id": "479f8112",
   "metadata": {},
   "outputs": [
    {
     "data": {
      "text/plain": [
       "'안녕하세요\\n테스트 파일\\n테스트 파일2\\n테스트 파일 3\\n테스트 파일  4'"
      ]
     },
     "execution_count": 21,
     "metadata": {},
     "output_type": "execute_result"
    }
   ],
   "source": [
    "with open('abc.txt', 'r', encoding='utf-8') as f:\n",
    "    temp = f.read()\n",
    "temp"
   ]
  },
  {
   "cell_type": "code",
   "execution_count": 22,
   "id": "a62a5c1d",
   "metadata": {},
   "outputs": [
    {
     "name": "stdout",
     "output_type": "stream",
     "text": [
      "안녕하세요\n",
      "테스트 파일\n",
      "테스트 파일2\n",
      "테스트 파일 3\n",
      "테스트 파일  4\n"
     ]
    }
   ],
   "source": [
    "print(temp)"
   ]
  },
  {
   "cell_type": "code",
   "execution_count": 26,
   "id": "e013f652",
   "metadata": {},
   "outputs": [
    {
     "name": "stdout",
     "output_type": "stream",
     "text": [
      "테스트 파일2\n",
      "\n"
     ]
    },
    {
     "data": {
      "text/plain": [
       "('안녕하세요\\n', '테스트 파일\\n')"
      ]
     },
     "execution_count": 26,
     "metadata": {},
     "output_type": "execute_result"
    }
   ],
   "source": [
    "with open('abc.txt', 'r', encoding='utf-8') as f:\n",
    "    temp = f.readline()\n",
    "    temp2 = f.readline()\n",
    "    temp3 = f.readline()\n",
    "print(temp3)\n",
    "temp, temp2"
   ]
  },
  {
   "cell_type": "code",
   "execution_count": 27,
   "id": "a25d11e6",
   "metadata": {},
   "outputs": [
    {
     "data": {
      "text/plain": [
       "['안녕하세요', '테스트 파일', '테스트 파일2', '테스트 파일 3', '테스트 파일  4']"
      ]
     },
     "execution_count": 27,
     "metadata": {},
     "output_type": "execute_result"
    }
   ],
   "source": [
    "with open('abc.txt', 'r', encoding='utf-8') as f:\n",
    "    temp = [line.rstrip() for line in f.readlines()]\n",
    "temp"
   ]
  },
  {
   "cell_type": "code",
   "execution_count": null,
   "id": "c410c637",
   "metadata": {},
   "outputs": [],
   "source": []
  },
  {
   "cell_type": "code",
   "execution_count": 102,
   "id": "c1d0c17c",
   "metadata": {},
   "outputs": [
    {
     "data": {
      "text/plain": [
       "[3, 5, 7]"
      ]
     },
     "execution_count": 102,
     "metadata": {},
     "output_type": "execute_result"
    }
   ],
   "source": [
    "with open('abc.pkl', 'rb') as f:\n",
    "    obj = pickle.load(f)\n",
    "obj"
   ]
  },
  {
   "cell_type": "code",
   "execution_count": null,
   "id": "e8ce8eba",
   "metadata": {},
   "outputs": [],
   "source": []
  },
  {
   "cell_type": "code",
   "execution_count": null,
   "id": "c473fa19",
   "metadata": {},
   "outputs": [],
   "source": []
  },
  {
   "cell_type": "code",
   "execution_count": null,
   "id": "d1a34914",
   "metadata": {},
   "outputs": [],
   "source": []
  },
  {
   "cell_type": "code",
   "execution_count": null,
   "id": "981eb649",
   "metadata": {},
   "outputs": [],
   "source": []
  },
  {
   "cell_type": "code",
   "execution_count": null,
   "id": "cd5813fc",
   "metadata": {},
   "outputs": [],
   "source": []
  },
  {
   "cell_type": "code",
   "execution_count": null,
   "id": "daaf1f6b",
   "metadata": {},
   "outputs": [],
   "source": []
  },
  {
   "cell_type": "code",
   "execution_count": null,
   "id": "a2c2d4da",
   "metadata": {},
   "outputs": [],
   "source": []
  },
  {
   "cell_type": "code",
   "execution_count": null,
   "id": "c3cec780",
   "metadata": {},
   "outputs": [],
   "source": []
  }
 ],
 "metadata": {
  "kernelspec": {
   "display_name": "Python 3 (ipykernel)",
   "language": "python",
   "name": "python3"
  },
  "language_info": {
   "codemirror_mode": {
    "name": "ipython",
    "version": 3
   },
   "file_extension": ".py",
   "mimetype": "text/x-python",
   "name": "python",
   "nbconvert_exporter": "python",
   "pygments_lexer": "ipython3",
   "version": "3.9.12"
  }
 },
 "nbformat": 4,
 "nbformat_minor": 5
}
